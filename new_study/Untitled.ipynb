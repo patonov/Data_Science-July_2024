{
 "cells": [
  {
   "cell_type": "code",
   "execution_count": 1,
   "id": "a982326a-574d-4126-8e7d-cd84e455ff3f",
   "metadata": {},
   "outputs": [],
   "source": [
    "import numpy as np\n",
    "import pandas as pd\n",
    "import matplotlib.pyplot as plt\n",
    "from sklearn import linear_model"
   ]
  },
  {
   "cell_type": "code",
   "execution_count": 2,
   "id": "7e68b9b7-476e-4ee4-b489-db74213e9d0f",
   "metadata": {},
   "outputs": [],
   "source": [
    "df = pd.read_excel(\"fake_panel.xlsx\")"
   ]
  },
  {
   "cell_type": "code",
   "execution_count": 3,
   "id": "412e17e8-dcb5-49eb-ae2b-d99230cf01f0",
   "metadata": {},
   "outputs": [],
   "source": [
    "df.columns = [\"country\", \"year\", \"gdp\", \"defence\", \"health\", \"sport\", \"education\"]"
   ]
  },
  {
   "cell_type": "code",
   "execution_count": 4,
   "id": "f59ffe55-7d13-4e37-b588-bc187568ae9a",
   "metadata": {},
   "outputs": [
    {
     "name": "stdout",
     "output_type": "stream",
     "text": [
      "<class 'pandas.core.frame.DataFrame'>\n",
      "RangeIndex: 270 entries, 0 to 269\n",
      "Data columns (total 7 columns):\n",
      " #   Column     Non-Null Count  Dtype  \n",
      "---  ------     --------------  -----  \n",
      " 0   country    270 non-null    object \n",
      " 1   year       270 non-null    int64  \n",
      " 2   gdp        270 non-null    float64\n",
      " 3   defence    270 non-null    float64\n",
      " 4   health     270 non-null    float64\n",
      " 5   sport      270 non-null    float64\n",
      " 6   education  270 non-null    float64\n",
      "dtypes: float64(5), int64(1), object(1)\n",
      "memory usage: 14.9+ KB\n"
     ]
    }
   ],
   "source": [
    "df.info()"
   ]
  },
  {
   "cell_type": "code",
   "execution_count": 5,
   "id": "aeeabbf1-9559-4d48-8a6d-2619a4062cc3",
   "metadata": {},
   "outputs": [
    {
     "data": {
      "text/plain": [
       "2.692"
      ]
     },
     "execution_count": 5,
     "metadata": {},
     "output_type": "execute_result"
    }
   ],
   "source": [
    "df[\"gdp\"].mean()"
   ]
  },
  {
   "cell_type": "code",
   "execution_count": 6,
   "id": "6e1a5910-fe48-49b3-8a9f-fa441f315647",
   "metadata": {},
   "outputs": [
    {
     "data": {
      "text/plain": [
       "1.2433333333333334"
      ]
     },
     "execution_count": 6,
     "metadata": {},
     "output_type": "execute_result"
    }
   ],
   "source": [
    "df[\"defence\"].mean()"
   ]
  },
  {
   "cell_type": "code",
   "execution_count": 7,
   "id": "8ff5e337-a215-407e-88d0-ff08061f9c4b",
   "metadata": {},
   "outputs": [
    {
     "data": {
      "text/plain": [
       "6.402962962962964"
      ]
     },
     "execution_count": 7,
     "metadata": {},
     "output_type": "execute_result"
    }
   ],
   "source": [
    "df[\"health\"].mean()"
   ]
  },
  {
   "cell_type": "code",
   "execution_count": 8,
   "id": "4ba702c4-1e85-4179-8e30-6e47e6486802",
   "metadata": {},
   "outputs": [
    {
     "data": {
      "text/plain": [
       "0.3877777777777777"
      ]
     },
     "execution_count": 8,
     "metadata": {},
     "output_type": "execute_result"
    }
   ],
   "source": [
    "df[\"sport\"].mean()"
   ]
  },
  {
   "cell_type": "code",
   "execution_count": 9,
   "id": "3d3d453d-a601-486c-a033-e43661feca1d",
   "metadata": {},
   "outputs": [
    {
     "data": {
      "text/plain": [
       "4.934814814814815"
      ]
     },
     "execution_count": 9,
     "metadata": {},
     "output_type": "execute_result"
    }
   ],
   "source": [
    "df[\"education\"].mean()"
   ]
  },
  {
   "cell_type": "code",
   "execution_count": 10,
   "id": "fd4efc5d-7836-4aa8-9488-469adbaf3e03",
   "metadata": {},
   "outputs": [
    {
     "data": {
      "text/plain": [
       "-0.03978762506455344"
      ]
     },
     "execution_count": 10,
     "metadata": {},
     "output_type": "execute_result"
    }
   ],
   "source": [
    "df[\"gdp\"].autocorr()"
   ]
  },
  {
   "cell_type": "code",
   "execution_count": 11,
   "id": "650d70fc-8b1b-4f9f-bd00-f8d7b8b5a888",
   "metadata": {},
   "outputs": [
    {
     "data": {
      "text/plain": [
       "0.7493858687716618"
      ]
     },
     "execution_count": 11,
     "metadata": {},
     "output_type": "execute_result"
    }
   ],
   "source": [
    "df[\"defence\"].autocorr()"
   ]
  },
  {
   "cell_type": "code",
   "execution_count": 12,
   "id": "06e5f259-f01e-4f7a-87f3-9bdc931868b3",
   "metadata": {},
   "outputs": [
    {
     "data": {
      "text/plain": [
       "0.8743926904226766"
      ]
     },
     "execution_count": 12,
     "metadata": {},
     "output_type": "execute_result"
    }
   ],
   "source": [
    "df[\"health\"].autocorr()"
   ]
  },
  {
   "cell_type": "code",
   "execution_count": 13,
   "id": "338c795b-b69f-4891-a50a-6129e19d5fd1",
   "metadata": {},
   "outputs": [
    {
     "data": {
      "text/plain": [
       "0.8522645932284458"
      ]
     },
     "execution_count": 13,
     "metadata": {},
     "output_type": "execute_result"
    }
   ],
   "source": [
    "df[\"sport\"].autocorr()"
   ]
  },
  {
   "cell_type": "code",
   "execution_count": 14,
   "id": "1551b953-a1e0-4bcb-b775-10ef1178c937",
   "metadata": {},
   "outputs": [
    {
     "data": {
      "text/plain": [
       "0.8858123400768985"
      ]
     },
     "execution_count": 14,
     "metadata": {},
     "output_type": "execute_result"
    }
   ],
   "source": [
    "df[\"education\"].autocorr()"
   ]
  },
  {
   "cell_type": "code",
   "execution_count": 15,
   "id": "aecd10df-f148-4f57-bd75-5bf536bd34cb",
   "metadata": {},
   "outputs": [
    {
     "data": {
      "text/plain": [
       "count    270.000000\n",
       "mean       2.692000\n",
       "std        3.849976\n",
       "min      -10.940000\n",
       "25%        1.242500\n",
       "50%        2.575000\n",
       "75%        4.367500\n",
       "max       24.620000\n",
       "Name: gdp, dtype: float64"
      ]
     },
     "execution_count": 15,
     "metadata": {},
     "output_type": "execute_result"
    }
   ],
   "source": [
    "df[\"gdp\"].describe()"
   ]
  },
  {
   "cell_type": "code",
   "execution_count": 16,
   "id": "78752dc6-1d8b-4af7-8e7c-e9359c206782",
   "metadata": {},
   "outputs": [
    {
     "data": {
      "text/plain": [
       "5.273021107883682"
      ]
     },
     "execution_count": 16,
     "metadata": {},
     "output_type": "execute_result"
    }
   ],
   "source": [
    "df[\"gdp\"].kurtosis()"
   ]
  },
  {
   "cell_type": "code",
   "execution_count": 17,
   "id": "5d9e150f-2803-4683-8ab7-944a22151edd",
   "metadata": {},
   "outputs": [],
   "source": [
    "X = df[[\"defence\", \"health\", \"sport\", \"education\"]]\n",
    "y = df[\"gdp\"]"
   ]
  },
  {
   "cell_type": "code",
   "execution_count": 18,
   "id": "f8e60616-f36c-4e8f-a69c-05590850bb2b",
   "metadata": {},
   "outputs": [
    {
     "data": {
      "text/html": [
       "<style>#sk-container-id-1 {\n",
       "  /* Definition of color scheme common for light and dark mode */\n",
       "  --sklearn-color-text: black;\n",
       "  --sklearn-color-line: gray;\n",
       "  /* Definition of color scheme for unfitted estimators */\n",
       "  --sklearn-color-unfitted-level-0: #fff5e6;\n",
       "  --sklearn-color-unfitted-level-1: #f6e4d2;\n",
       "  --sklearn-color-unfitted-level-2: #ffe0b3;\n",
       "  --sklearn-color-unfitted-level-3: chocolate;\n",
       "  /* Definition of color scheme for fitted estimators */\n",
       "  --sklearn-color-fitted-level-0: #f0f8ff;\n",
       "  --sklearn-color-fitted-level-1: #d4ebff;\n",
       "  --sklearn-color-fitted-level-2: #b3dbfd;\n",
       "  --sklearn-color-fitted-level-3: cornflowerblue;\n",
       "\n",
       "  /* Specific color for light theme */\n",
       "  --sklearn-color-text-on-default-background: var(--sg-text-color, var(--theme-code-foreground, var(--jp-content-font-color1, black)));\n",
       "  --sklearn-color-background: var(--sg-background-color, var(--theme-background, var(--jp-layout-color0, white)));\n",
       "  --sklearn-color-border-box: var(--sg-text-color, var(--theme-code-foreground, var(--jp-content-font-color1, black)));\n",
       "  --sklearn-color-icon: #696969;\n",
       "\n",
       "  @media (prefers-color-scheme: dark) {\n",
       "    /* Redefinition of color scheme for dark theme */\n",
       "    --sklearn-color-text-on-default-background: var(--sg-text-color, var(--theme-code-foreground, var(--jp-content-font-color1, white)));\n",
       "    --sklearn-color-background: var(--sg-background-color, var(--theme-background, var(--jp-layout-color0, #111)));\n",
       "    --sklearn-color-border-box: var(--sg-text-color, var(--theme-code-foreground, var(--jp-content-font-color1, white)));\n",
       "    --sklearn-color-icon: #878787;\n",
       "  }\n",
       "}\n",
       "\n",
       "#sk-container-id-1 {\n",
       "  color: var(--sklearn-color-text);\n",
       "}\n",
       "\n",
       "#sk-container-id-1 pre {\n",
       "  padding: 0;\n",
       "}\n",
       "\n",
       "#sk-container-id-1 input.sk-hidden--visually {\n",
       "  border: 0;\n",
       "  clip: rect(1px 1px 1px 1px);\n",
       "  clip: rect(1px, 1px, 1px, 1px);\n",
       "  height: 1px;\n",
       "  margin: -1px;\n",
       "  overflow: hidden;\n",
       "  padding: 0;\n",
       "  position: absolute;\n",
       "  width: 1px;\n",
       "}\n",
       "\n",
       "#sk-container-id-1 div.sk-dashed-wrapped {\n",
       "  border: 1px dashed var(--sklearn-color-line);\n",
       "  margin: 0 0.4em 0.5em 0.4em;\n",
       "  box-sizing: border-box;\n",
       "  padding-bottom: 0.4em;\n",
       "  background-color: var(--sklearn-color-background);\n",
       "}\n",
       "\n",
       "#sk-container-id-1 div.sk-container {\n",
       "  /* jupyter's `normalize.less` sets `[hidden] { display: none; }`\n",
       "     but bootstrap.min.css set `[hidden] { display: none !important; }`\n",
       "     so we also need the `!important` here to be able to override the\n",
       "     default hidden behavior on the sphinx rendered scikit-learn.org.\n",
       "     See: https://github.com/scikit-learn/scikit-learn/issues/21755 */\n",
       "  display: inline-block !important;\n",
       "  position: relative;\n",
       "}\n",
       "\n",
       "#sk-container-id-1 div.sk-text-repr-fallback {\n",
       "  display: none;\n",
       "}\n",
       "\n",
       "div.sk-parallel-item,\n",
       "div.sk-serial,\n",
       "div.sk-item {\n",
       "  /* draw centered vertical line to link estimators */\n",
       "  background-image: linear-gradient(var(--sklearn-color-text-on-default-background), var(--sklearn-color-text-on-default-background));\n",
       "  background-size: 2px 100%;\n",
       "  background-repeat: no-repeat;\n",
       "  background-position: center center;\n",
       "}\n",
       "\n",
       "/* Parallel-specific style estimator block */\n",
       "\n",
       "#sk-container-id-1 div.sk-parallel-item::after {\n",
       "  content: \"\";\n",
       "  width: 100%;\n",
       "  border-bottom: 2px solid var(--sklearn-color-text-on-default-background);\n",
       "  flex-grow: 1;\n",
       "}\n",
       "\n",
       "#sk-container-id-1 div.sk-parallel {\n",
       "  display: flex;\n",
       "  align-items: stretch;\n",
       "  justify-content: center;\n",
       "  background-color: var(--sklearn-color-background);\n",
       "  position: relative;\n",
       "}\n",
       "\n",
       "#sk-container-id-1 div.sk-parallel-item {\n",
       "  display: flex;\n",
       "  flex-direction: column;\n",
       "}\n",
       "\n",
       "#sk-container-id-1 div.sk-parallel-item:first-child::after {\n",
       "  align-self: flex-end;\n",
       "  width: 50%;\n",
       "}\n",
       "\n",
       "#sk-container-id-1 div.sk-parallel-item:last-child::after {\n",
       "  align-self: flex-start;\n",
       "  width: 50%;\n",
       "}\n",
       "\n",
       "#sk-container-id-1 div.sk-parallel-item:only-child::after {\n",
       "  width: 0;\n",
       "}\n",
       "\n",
       "/* Serial-specific style estimator block */\n",
       "\n",
       "#sk-container-id-1 div.sk-serial {\n",
       "  display: flex;\n",
       "  flex-direction: column;\n",
       "  align-items: center;\n",
       "  background-color: var(--sklearn-color-background);\n",
       "  padding-right: 1em;\n",
       "  padding-left: 1em;\n",
       "}\n",
       "\n",
       "\n",
       "/* Toggleable style: style used for estimator/Pipeline/ColumnTransformer box that is\n",
       "clickable and can be expanded/collapsed.\n",
       "- Pipeline and ColumnTransformer use this feature and define the default style\n",
       "- Estimators will overwrite some part of the style using the `sk-estimator` class\n",
       "*/\n",
       "\n",
       "/* Pipeline and ColumnTransformer style (default) */\n",
       "\n",
       "#sk-container-id-1 div.sk-toggleable {\n",
       "  /* Default theme specific background. It is overwritten whether we have a\n",
       "  specific estimator or a Pipeline/ColumnTransformer */\n",
       "  background-color: var(--sklearn-color-background);\n",
       "}\n",
       "\n",
       "/* Toggleable label */\n",
       "#sk-container-id-1 label.sk-toggleable__label {\n",
       "  cursor: pointer;\n",
       "  display: block;\n",
       "  width: 100%;\n",
       "  margin-bottom: 0;\n",
       "  padding: 0.5em;\n",
       "  box-sizing: border-box;\n",
       "  text-align: center;\n",
       "}\n",
       "\n",
       "#sk-container-id-1 label.sk-toggleable__label-arrow:before {\n",
       "  /* Arrow on the left of the label */\n",
       "  content: \"▸\";\n",
       "  float: left;\n",
       "  margin-right: 0.25em;\n",
       "  color: var(--sklearn-color-icon);\n",
       "}\n",
       "\n",
       "#sk-container-id-1 label.sk-toggleable__label-arrow:hover:before {\n",
       "  color: var(--sklearn-color-text);\n",
       "}\n",
       "\n",
       "/* Toggleable content - dropdown */\n",
       "\n",
       "#sk-container-id-1 div.sk-toggleable__content {\n",
       "  max-height: 0;\n",
       "  max-width: 0;\n",
       "  overflow: hidden;\n",
       "  text-align: left;\n",
       "  /* unfitted */\n",
       "  background-color: var(--sklearn-color-unfitted-level-0);\n",
       "}\n",
       "\n",
       "#sk-container-id-1 div.sk-toggleable__content.fitted {\n",
       "  /* fitted */\n",
       "  background-color: var(--sklearn-color-fitted-level-0);\n",
       "}\n",
       "\n",
       "#sk-container-id-1 div.sk-toggleable__content pre {\n",
       "  margin: 0.2em;\n",
       "  border-radius: 0.25em;\n",
       "  color: var(--sklearn-color-text);\n",
       "  /* unfitted */\n",
       "  background-color: var(--sklearn-color-unfitted-level-0);\n",
       "}\n",
       "\n",
       "#sk-container-id-1 div.sk-toggleable__content.fitted pre {\n",
       "  /* unfitted */\n",
       "  background-color: var(--sklearn-color-fitted-level-0);\n",
       "}\n",
       "\n",
       "#sk-container-id-1 input.sk-toggleable__control:checked~div.sk-toggleable__content {\n",
       "  /* Expand drop-down */\n",
       "  max-height: 200px;\n",
       "  max-width: 100%;\n",
       "  overflow: auto;\n",
       "}\n",
       "\n",
       "#sk-container-id-1 input.sk-toggleable__control:checked~label.sk-toggleable__label-arrow:before {\n",
       "  content: \"▾\";\n",
       "}\n",
       "\n",
       "/* Pipeline/ColumnTransformer-specific style */\n",
       "\n",
       "#sk-container-id-1 div.sk-label input.sk-toggleable__control:checked~label.sk-toggleable__label {\n",
       "  color: var(--sklearn-color-text);\n",
       "  background-color: var(--sklearn-color-unfitted-level-2);\n",
       "}\n",
       "\n",
       "#sk-container-id-1 div.sk-label.fitted input.sk-toggleable__control:checked~label.sk-toggleable__label {\n",
       "  background-color: var(--sklearn-color-fitted-level-2);\n",
       "}\n",
       "\n",
       "/* Estimator-specific style */\n",
       "\n",
       "/* Colorize estimator box */\n",
       "#sk-container-id-1 div.sk-estimator input.sk-toggleable__control:checked~label.sk-toggleable__label {\n",
       "  /* unfitted */\n",
       "  background-color: var(--sklearn-color-unfitted-level-2);\n",
       "}\n",
       "\n",
       "#sk-container-id-1 div.sk-estimator.fitted input.sk-toggleable__control:checked~label.sk-toggleable__label {\n",
       "  /* fitted */\n",
       "  background-color: var(--sklearn-color-fitted-level-2);\n",
       "}\n",
       "\n",
       "#sk-container-id-1 div.sk-label label.sk-toggleable__label,\n",
       "#sk-container-id-1 div.sk-label label {\n",
       "  /* The background is the default theme color */\n",
       "  color: var(--sklearn-color-text-on-default-background);\n",
       "}\n",
       "\n",
       "/* On hover, darken the color of the background */\n",
       "#sk-container-id-1 div.sk-label:hover label.sk-toggleable__label {\n",
       "  color: var(--sklearn-color-text);\n",
       "  background-color: var(--sklearn-color-unfitted-level-2);\n",
       "}\n",
       "\n",
       "/* Label box, darken color on hover, fitted */\n",
       "#sk-container-id-1 div.sk-label.fitted:hover label.sk-toggleable__label.fitted {\n",
       "  color: var(--sklearn-color-text);\n",
       "  background-color: var(--sklearn-color-fitted-level-2);\n",
       "}\n",
       "\n",
       "/* Estimator label */\n",
       "\n",
       "#sk-container-id-1 div.sk-label label {\n",
       "  font-family: monospace;\n",
       "  font-weight: bold;\n",
       "  display: inline-block;\n",
       "  line-height: 1.2em;\n",
       "}\n",
       "\n",
       "#sk-container-id-1 div.sk-label-container {\n",
       "  text-align: center;\n",
       "}\n",
       "\n",
       "/* Estimator-specific */\n",
       "#sk-container-id-1 div.sk-estimator {\n",
       "  font-family: monospace;\n",
       "  border: 1px dotted var(--sklearn-color-border-box);\n",
       "  border-radius: 0.25em;\n",
       "  box-sizing: border-box;\n",
       "  margin-bottom: 0.5em;\n",
       "  /* unfitted */\n",
       "  background-color: var(--sklearn-color-unfitted-level-0);\n",
       "}\n",
       "\n",
       "#sk-container-id-1 div.sk-estimator.fitted {\n",
       "  /* fitted */\n",
       "  background-color: var(--sklearn-color-fitted-level-0);\n",
       "}\n",
       "\n",
       "/* on hover */\n",
       "#sk-container-id-1 div.sk-estimator:hover {\n",
       "  /* unfitted */\n",
       "  background-color: var(--sklearn-color-unfitted-level-2);\n",
       "}\n",
       "\n",
       "#sk-container-id-1 div.sk-estimator.fitted:hover {\n",
       "  /* fitted */\n",
       "  background-color: var(--sklearn-color-fitted-level-2);\n",
       "}\n",
       "\n",
       "/* Specification for estimator info (e.g. \"i\" and \"?\") */\n",
       "\n",
       "/* Common style for \"i\" and \"?\" */\n",
       "\n",
       ".sk-estimator-doc-link,\n",
       "a:link.sk-estimator-doc-link,\n",
       "a:visited.sk-estimator-doc-link {\n",
       "  float: right;\n",
       "  font-size: smaller;\n",
       "  line-height: 1em;\n",
       "  font-family: monospace;\n",
       "  background-color: var(--sklearn-color-background);\n",
       "  border-radius: 1em;\n",
       "  height: 1em;\n",
       "  width: 1em;\n",
       "  text-decoration: none !important;\n",
       "  margin-left: 1ex;\n",
       "  /* unfitted */\n",
       "  border: var(--sklearn-color-unfitted-level-1) 1pt solid;\n",
       "  color: var(--sklearn-color-unfitted-level-1);\n",
       "}\n",
       "\n",
       ".sk-estimator-doc-link.fitted,\n",
       "a:link.sk-estimator-doc-link.fitted,\n",
       "a:visited.sk-estimator-doc-link.fitted {\n",
       "  /* fitted */\n",
       "  border: var(--sklearn-color-fitted-level-1) 1pt solid;\n",
       "  color: var(--sklearn-color-fitted-level-1);\n",
       "}\n",
       "\n",
       "/* On hover */\n",
       "div.sk-estimator:hover .sk-estimator-doc-link:hover,\n",
       ".sk-estimator-doc-link:hover,\n",
       "div.sk-label-container:hover .sk-estimator-doc-link:hover,\n",
       ".sk-estimator-doc-link:hover {\n",
       "  /* unfitted */\n",
       "  background-color: var(--sklearn-color-unfitted-level-3);\n",
       "  color: var(--sklearn-color-background);\n",
       "  text-decoration: none;\n",
       "}\n",
       "\n",
       "div.sk-estimator.fitted:hover .sk-estimator-doc-link.fitted:hover,\n",
       ".sk-estimator-doc-link.fitted:hover,\n",
       "div.sk-label-container:hover .sk-estimator-doc-link.fitted:hover,\n",
       ".sk-estimator-doc-link.fitted:hover {\n",
       "  /* fitted */\n",
       "  background-color: var(--sklearn-color-fitted-level-3);\n",
       "  color: var(--sklearn-color-background);\n",
       "  text-decoration: none;\n",
       "}\n",
       "\n",
       "/* Span, style for the box shown on hovering the info icon */\n",
       ".sk-estimator-doc-link span {\n",
       "  display: none;\n",
       "  z-index: 9999;\n",
       "  position: relative;\n",
       "  font-weight: normal;\n",
       "  right: .2ex;\n",
       "  padding: .5ex;\n",
       "  margin: .5ex;\n",
       "  width: min-content;\n",
       "  min-width: 20ex;\n",
       "  max-width: 50ex;\n",
       "  color: var(--sklearn-color-text);\n",
       "  box-shadow: 2pt 2pt 4pt #999;\n",
       "  /* unfitted */\n",
       "  background: var(--sklearn-color-unfitted-level-0);\n",
       "  border: .5pt solid var(--sklearn-color-unfitted-level-3);\n",
       "}\n",
       "\n",
       ".sk-estimator-doc-link.fitted span {\n",
       "  /* fitted */\n",
       "  background: var(--sklearn-color-fitted-level-0);\n",
       "  border: var(--sklearn-color-fitted-level-3);\n",
       "}\n",
       "\n",
       ".sk-estimator-doc-link:hover span {\n",
       "  display: block;\n",
       "}\n",
       "\n",
       "/* \"?\"-specific style due to the `<a>` HTML tag */\n",
       "\n",
       "#sk-container-id-1 a.estimator_doc_link {\n",
       "  float: right;\n",
       "  font-size: 1rem;\n",
       "  line-height: 1em;\n",
       "  font-family: monospace;\n",
       "  background-color: var(--sklearn-color-background);\n",
       "  border-radius: 1rem;\n",
       "  height: 1rem;\n",
       "  width: 1rem;\n",
       "  text-decoration: none;\n",
       "  /* unfitted */\n",
       "  color: var(--sklearn-color-unfitted-level-1);\n",
       "  border: var(--sklearn-color-unfitted-level-1) 1pt solid;\n",
       "}\n",
       "\n",
       "#sk-container-id-1 a.estimator_doc_link.fitted {\n",
       "  /* fitted */\n",
       "  border: var(--sklearn-color-fitted-level-1) 1pt solid;\n",
       "  color: var(--sklearn-color-fitted-level-1);\n",
       "}\n",
       "\n",
       "/* On hover */\n",
       "#sk-container-id-1 a.estimator_doc_link:hover {\n",
       "  /* unfitted */\n",
       "  background-color: var(--sklearn-color-unfitted-level-3);\n",
       "  color: var(--sklearn-color-background);\n",
       "  text-decoration: none;\n",
       "}\n",
       "\n",
       "#sk-container-id-1 a.estimator_doc_link.fitted:hover {\n",
       "  /* fitted */\n",
       "  background-color: var(--sklearn-color-fitted-level-3);\n",
       "}\n",
       "</style><div id=\"sk-container-id-1\" class=\"sk-top-container\"><div class=\"sk-text-repr-fallback\"><pre>LinearRegression()</pre><b>In a Jupyter environment, please rerun this cell to show the HTML representation or trust the notebook. <br />On GitHub, the HTML representation is unable to render, please try loading this page with nbviewer.org.</b></div><div class=\"sk-container\" hidden><div class=\"sk-item\"><div class=\"sk-estimator fitted sk-toggleable\"><input class=\"sk-toggleable__control sk-hidden--visually\" id=\"sk-estimator-id-1\" type=\"checkbox\" checked><label for=\"sk-estimator-id-1\" class=\"sk-toggleable__label fitted sk-toggleable__label-arrow fitted\">&nbsp;&nbsp;LinearRegression<a class=\"sk-estimator-doc-link fitted\" rel=\"noreferrer\" target=\"_blank\" href=\"https://scikit-learn.org/1.4/modules/generated/sklearn.linear_model.LinearRegression.html\">?<span>Documentation for LinearRegression</span></a><span class=\"sk-estimator-doc-link fitted\">i<span>Fitted</span></span></label><div class=\"sk-toggleable__content fitted\"><pre>LinearRegression()</pre></div> </div></div></div></div>"
      ],
      "text/plain": [
       "LinearRegression()"
      ]
     },
     "execution_count": 18,
     "metadata": {},
     "output_type": "execute_result"
    }
   ],
   "source": [
    "regression = linear_model.LinearRegression()\n",
    "regression.fit(X, y)"
   ]
  },
  {
   "cell_type": "code",
   "execution_count": 19,
   "id": "d28faaaa-be2f-446b-a288-8a68a87188f2",
   "metadata": {},
   "outputs": [
    {
     "data": {
      "text/plain": [
       "{'copy_X': True, 'fit_intercept': True, 'n_jobs': None, 'positive': False}"
      ]
     },
     "execution_count": 19,
     "metadata": {},
     "output_type": "execute_result"
    }
   ],
   "source": [
    "regression.get_params(deep=True)"
   ]
  },
  {
   "cell_type": "code",
   "execution_count": 20,
   "id": "d59b7183-2e65-44f4-a3d0-1edf089429d6",
   "metadata": {},
   "outputs": [
    {
     "data": {
      "text/plain": [
       "0.12678349088145913"
      ]
     },
     "execution_count": 20,
     "metadata": {},
     "output_type": "execute_result"
    }
   ],
   "source": [
    "regression.score(X, y)"
   ]
  },
  {
   "cell_type": "code",
   "execution_count": 21,
   "id": "132de0ff-6e3a-47fb-b81a-ec6544dd5a8d",
   "metadata": {},
   "outputs": [
    {
     "data": {
      "text/plain": [
       "array([-1.29256698, -0.6610207 , -2.52752311, -0.12582597])"
      ]
     },
     "execution_count": 21,
     "metadata": {},
     "output_type": "execute_result"
    }
   ],
   "source": [
    "regression.coef_"
   ]
  },
  {
   "cell_type": "code",
   "execution_count": 22,
   "id": "ef3a7a27-f0be-46f3-bbab-621c4ffc4cf2",
   "metadata": {},
   "outputs": [
    {
     "name": "stderr",
     "output_type": "stream",
     "text": [
      "C:\\Users\\User\\AppData\\Local\\Programs\\Python\\Python312\\Lib\\site-packages\\sklearn\\base.py:493: UserWarning: X does not have valid feature names, but LinearRegression was fitted with feature names\n",
      "  warnings.warn(\n"
     ]
    },
    {
     "data": {
      "text/plain": [
       "array([3.00347232])"
      ]
     },
     "execution_count": 22,
     "metadata": {},
     "output_type": "execute_result"
    }
   ],
   "source": [
    "regression.predict([[1.0, 6.40, 0.39, 4.93]])"
   ]
  },
  {
   "cell_type": "code",
   "execution_count": 23,
   "id": "8cdc3f33-789c-4267-8395-b72a4766bb9d",
   "metadata": {},
   "outputs": [
    {
     "name": "stderr",
     "output_type": "stream",
     "text": [
      "C:\\Users\\User\\AppData\\Local\\Programs\\Python\\Python312\\Lib\\site-packages\\sklearn\\base.py:493: UserWarning: X does not have valid feature names, but LinearRegression was fitted with feature names\n",
      "  warnings.warn(\n"
     ]
    },
    {
     "data": {
      "text/plain": [
       "array([1.71090534])"
      ]
     },
     "execution_count": 23,
     "metadata": {},
     "output_type": "execute_result"
    }
   ],
   "source": [
    "regression.predict([[2.0, 6.40, 0.39, 4.93]])"
   ]
  },
  {
   "cell_type": "code",
   "execution_count": 24,
   "id": "96f0c8d0-a6c9-45bb-8c95-5e5819df762c",
   "metadata": {},
   "outputs": [
    {
     "name": "stderr",
     "output_type": "stream",
     "text": [
      "C:\\Users\\User\\AppData\\Local\\Programs\\Python\\Python312\\Lib\\site-packages\\sklearn\\base.py:493: UserWarning: X does not have valid feature names, but LinearRegression was fitted with feature names\n",
      "  warnings.warn(\n"
     ]
    },
    {
     "data": {
      "text/plain": [
       "array([0.41833837])"
      ]
     },
     "execution_count": 24,
     "metadata": {},
     "output_type": "execute_result"
    }
   ],
   "source": [
    "regression.predict([[3.0, 6.40, 0.39, 4.93]])"
   ]
  },
  {
   "cell_type": "code",
   "execution_count": 25,
   "id": "4f6d44e0-f7ac-467c-869f-0ed1eb47e120",
   "metadata": {},
   "outputs": [
    {
     "name": "stderr",
     "output_type": "stream",
     "text": [
      "C:\\Users\\User\\AppData\\Local\\Programs\\Python\\Python312\\Lib\\site-packages\\sklearn\\base.py:493: UserWarning: X does not have valid feature names, but LinearRegression was fitted with feature names\n",
      "  warnings.warn(\n"
     ]
    },
    {
     "data": {
      "text/plain": [
       "array([-0.87422861])"
      ]
     },
     "execution_count": 25,
     "metadata": {},
     "output_type": "execute_result"
    }
   ],
   "source": [
    "regression.predict([[4.0, 6.40, 0.39, 4.93]])"
   ]
  },
  {
   "cell_type": "code",
   "execution_count": 26,
   "id": "8d58e53f-32b9-4c81-bc20-47991f99e922",
   "metadata": {},
   "outputs": [
    {
     "name": "stderr",
     "output_type": "stream",
     "text": [
      "C:\\Users\\User\\AppData\\Local\\Programs\\Python\\Python312\\Lib\\site-packages\\sklearn\\base.py:493: UserWarning: X does not have valid feature names, but LinearRegression was fitted with feature names\n",
      "  warnings.warn(\n"
     ]
    },
    {
     "data": {
      "text/plain": [
       "array([-2.16679559])"
      ]
     },
     "execution_count": 26,
     "metadata": {},
     "output_type": "execute_result"
    }
   ],
   "source": [
    "regression.predict([[5.0, 6.40, 0.39, 4.93]])"
   ]
  },
  {
   "cell_type": "code",
   "execution_count": 27,
   "id": "f2b640b3-7102-4a72-9910-0ed4a4ddce5b",
   "metadata": {},
   "outputs": [],
   "source": [
    "from scipy import stats"
   ]
  },
  {
   "cell_type": "code",
   "execution_count": 28,
   "id": "2de3ba52-4ea1-44f7-a3ce-6f7067f35576",
   "metadata": {},
   "outputs": [],
   "source": [
    "#slope, intercept, r, p, std_err = stats.linregress(df[\"defence\"], y)\n",
    "#result = stats.linregress(df[\"defence\"], y)\n",
    "#result = stats.linregress(df[\"health\"], y)\n",
    "#result = stats.linregress(df[\"sport\"], y)\n",
    "result = stats.linregress(df[\"education\"], y)"
   ]
  },
  {
   "cell_type": "code",
   "execution_count": 29,
   "id": "1b27bc7f-3511-47e2-a5c9-8c3ed289572b",
   "metadata": {},
   "outputs": [
    {
     "name": "stdout",
     "output_type": "stream",
     "text": [
      "-0.7981742385842513\n",
      "0.0007573759397455776\n",
      "6.630842057369098\n",
      "0.04151652057217524\n",
      "0.23426755828633955\n"
     ]
    }
   ],
   "source": [
    "print(result.slope)\n",
    "print(result.pvalue)\n",
    "print(result.intercept)\n",
    "print(result.rvalue * result.rvalue)\n",
    "print(result.stderr)\n",
    "#The Pearson correlation coefficient. The square of rvalue is equal to the coefficient of determination."
   ]
  },
  {
   "cell_type": "code",
   "execution_count": 30,
   "id": "f07df0be-eff2-430c-957c-9323741ea340",
   "metadata": {},
   "outputs": [
    {
     "data": {
      "image/png": "[encoded data removed]",
      "text/plain": [
       "<Figure size 640x480 with 1 Axes>"
      ]
     },
     "metadata": {},
     "output_type": "display_data"
    }
   ],
   "source": [
    "plt.hist(df[\"education\"], bins=80)\n",
    "plt.show()"
   ]
  },
  {
   "cell_type": "code",
   "execution_count": 31,
   "id": "325cfd48-7a34-4f91-948e-6792d776fd5c",
   "metadata": {},
   "outputs": [],
   "source": [
    "import statsmodels as stm\n",
    "from statsmodels.distributions.empirical_distribution import ECDF"
   ]
  },
  {
   "cell_type": "code",
   "execution_count": 32,
   "id": "153c5cf0-9468-4832-af2e-7c88002fbd1a",
   "metadata": {
    "scrolled": true
   },
   "outputs": [
    {
     "data": {
      "image/png": "[encoded data removed]",
      "text/plain": [
       "<Figure size 640x480 with 1 Axes>"
      ]
     },
     "metadata": {},
     "output_type": "display_data"
    }
   ],
   "source": [
    "#Compute and plot the empirical cumulative distribution function of x. Here x = df[\"education\"]\n",
    "fig, ax = plt.subplots()\n",
    "ax.ecdf(df[\"education\"])\n",
    "plt.show()"
   ]
  },
  {
   "cell_type": "code",
   "execution_count": 33,
   "id": "b44bc983-fa2b-4e60-9d97-1134d43ec8fb",
   "metadata": {},
   "outputs": [],
   "source": [
    "ecdf = ECDF(df[\"health\"])"
   ]
  },
  {
   "cell_type": "code",
   "execution_count": 34,
   "id": "37bc5df2-1645-4303-8e0e-ab61f1a28578",
   "metadata": {},
   "outputs": [
    {
     "name": "stdout",
     "output_type": "stream",
     "text": [
      "P(x<20): 1.00\n",
      "P(x<40): 1.00\n",
      "P(x<60): 1.00\n"
     ]
    }
   ],
   "source": [
    "print('P(x<20): %.2f' % ecdf(20))\n",
    "print('P(x<40): %.2f' % ecdf(40))\n",
    "print('P(x<60): %.2f' % ecdf(60))"
   ]
  },
  {
   "cell_type": "code",
   "execution_count": 35,
   "id": "9bfc8f53-12f0-4c2e-a9e4-f5d12bc9d6a5",
   "metadata": {},
   "outputs": [
    {
     "data": {
      "image/png": "[encoded data removed]",
      "text/plain": [
       "<Figure size 640x480 with 1 Axes>"
      ]
     },
     "metadata": {},
     "output_type": "display_data"
    }
   ],
   "source": [
    "plt.plot(ecdf.x, ecdf.y)\n",
    "plt.show()"
   ]
  },
  {
   "cell_type": "code",
   "execution_count": 36,
   "id": "404d4ac3-8b51-406b-baf4-60432f935218",
   "metadata": {},
   "outputs": [],
   "source": [
    "#Augmented Dickey-Fuller test\n",
    "#Null hypothesis (H0), the data has a unit root and is non-stationary.\n",
    "from statsmodels.tsa.stattools import adfuller"
   ]
  },
  {
   "cell_type": "code",
   "execution_count": 37,
   "id": "2f47e616-5b53-4e1f-8a62-f9da64fdba11",
   "metadata": {},
   "outputs": [
    {
     "name": "stdout",
     "output_type": "stream",
     "text": [
      "ADF Statistic: -4.534863\n",
      "p-value: 0.000170\n",
      "Critical Values:\n",
      "\t1%: -3.456\n",
      "\t5%: -2.873\n",
      "\t10%: -2.573\n"
     ]
    }
   ],
   "source": [
    "result = adfuller(df[\"defence\"])\n",
    "print('ADF Statistic: %f' % result[0])\n",
    "print('p-value: %f' % result[1])\n",
    "print('Critical Values:')\n",
    "for key, value in result[4].items():\n",
    "\tprint('\\t%s: %.3f' % (key, value))"
   ]
  },
  {
   "cell_type": "code",
   "execution_count": 38,
   "id": "b627138b-bb89-4733-8e94-d6c4c4b0d62a",
   "metadata": {},
   "outputs": [],
   "source": [
    "#Phillips-Perron test\n",
    "#Null hypothesis (H0), the data has a unit root and is non-stationary.\n",
    "from arch.unitroot import PhillipsPerron as pp"
   ]
  },
  {
   "cell_type": "code",
   "execution_count": 39,
   "id": "338e9542-7dd9-4183-a588-40a49977c786",
   "metadata": {},
   "outputs": [],
   "source": [
    "pp_result = pp(df[\"defence\"], trend=\"c\")"
   ]
  },
  {
   "cell_type": "code",
   "execution_count": 40,
   "id": "577627c3-14f6-4937-974a-2acd78f558a6",
   "metadata": {},
   "outputs": [
    {
     "name": "stdout",
     "output_type": "stream",
     "text": [
      "PP Statistic: -5.469729\n",
      "p-value: 0.000002\n",
      "Critical Values:\n",
      "\t1%: -3.455\n",
      "\t5%: -2.872\n",
      "\t10%: -2.573\n"
     ]
    }
   ],
   "source": [
    "print('PP Statistic: %f' % pp_result.stat)\n",
    "print('p-value: %f' % pp_result.pvalue)\n",
    "print('Critical Values:')\n",
    "for key, value in pp_result.critical_values.items():\n",
    "\tprint('\\t%s: %.3f' % (key, value))"
   ]
  },
  {
   "cell_type": "code",
   "execution_count": 41,
   "id": "3b492d3d-6dde-48be-83cf-e7a3e420a75e",
   "metadata": {},
   "outputs": [],
   "source": [
    "from arch.unitroot import *"
   ]
  },
  {
   "cell_type": "code",
   "execution_count": 42,
   "id": "e309a12c-d5cb-4a9c-a9b5-f9d1586595ea",
   "metadata": {},
   "outputs": [],
   "source": [
    "arch_adf_result = ADF(df[\"defence\"], trend=\"c\")"
   ]
  },
  {
   "cell_type": "code",
   "execution_count": 43,
   "id": "72211e14-2635-43f4-863a-2b65758a2379",
   "metadata": {},
   "outputs": [
    {
     "name": "stdout",
     "output_type": "stream",
     "text": [
      "   Augmented Dickey-Fuller Results   \n",
      "=====================================\n",
      "Test Statistic                 -4.535\n",
      "P-value                         0.000\n",
      "Lags                               10\n",
      "-------------------------------------\n",
      "\n",
      "Trend: Constant\n",
      "Critical Values: -3.46 (1%), -2.87 (5%), -2.57 (10%)\n",
      "Null Hypothesis: The process contains a unit root.\n",
      "Alternative Hypothesis: The process is weakly stationary.\n"
     ]
    }
   ],
   "source": [
    "print(arch_adf_result.summary())"
   ]
  },
  {
   "cell_type": "code",
   "execution_count": 44,
   "id": "76e0a90e-961a-4bb7-86d4-b51d7678e8b6",
   "metadata": {},
   "outputs": [
    {
     "name": "stdout",
     "output_type": "stream",
     "text": [
      "   Augmented Dickey-Fuller Results   \n",
      "=====================================\n",
      "Test Statistic                 -7.656\n",
      "P-value                         0.000\n",
      "Lags                               15\n",
      "-------------------------------------\n",
      "\n",
      "Trend: Constant\n",
      "Critical Values: -3.46 (1%), -2.87 (5%), -2.57 (10%)\n",
      "Null Hypothesis: The process contains a unit root.\n",
      "Alternative Hypothesis: The process is weakly stationary.\n"
     ]
    }
   ],
   "source": [
    "#Let's try a unit root test on first difference of a variable\n",
    "first_diff = df[\"defence\"].diff()[1:]\n",
    "print(ADF(first_diff, trend=\"c\"))"
   ]
  },
  {
   "cell_type": "code",
   "execution_count": 45,
   "id": "1daae057-27b2-43fe-95b4-6367dba84292",
   "metadata": {},
   "outputs": [
    {
     "name": "stdout",
     "output_type": "stream",
     "text": [
      "   Augmented Dickey-Fuller Results   \n",
      "=====================================\n",
      "Test Statistic                 -7.802\n",
      "P-value                         0.000\n",
      "Lags                               15\n",
      "-------------------------------------\n",
      "\n",
      "Trend: Constant\n",
      "Critical Values: -3.46 (1%), -2.87 (5%), -2.57 (10%)\n",
      "Null Hypothesis: The process contains a unit root.\n",
      "Alternative Hypothesis: The process is weakly stationary.\n"
     ]
    }
   ],
   "source": [
    "#Let's try a unit root test on first difference of a variable\n",
    "second_diff = df[\"defence\"].diff(periods=2)[2:]\n",
    "print(ADF(second_diff, trend=\"c\"))"
   ]
  },
  {
   "cell_type": "code",
   "execution_count": 46,
   "id": "b03250a5-f2c7-490b-b14b-1147334223bc",
   "metadata": {},
   "outputs": [],
   "source": [
    "from statsmodels.stats.diagnostic import het_white\n",
    "import statsmodels.api as sm\n",
    "# This is needed to run the test for heteroskedasticity of White:\n",
    "# H0: Homoscedasticity is present (residuals are equally scattered)\n",
    "# H1: Heteroscedasticity is present (residuals are not equally scattered)"
   ]
  },
  {
   "cell_type": "code",
   "execution_count": 47,
   "id": "b80f2a65-b32a-4875-8112-e4392e77dbd1",
   "metadata": {},
   "outputs": [],
   "source": [
    "X = sm.add_constant(X)"
   ]
  },
  {
   "cell_type": "code",
   "execution_count": 48,
   "id": "7d9782da-6838-48f4-a60f-fda7ef9659a7",
   "metadata": {},
   "outputs": [],
   "source": [
    "model = sm.OLS(y, X).fit()"
   ]
  },
  {
   "cell_type": "code",
   "execution_count": 49,
   "id": "3daaf7cb-cfa0-4d68-bb33-e8c6545fcb6e",
   "metadata": {},
   "outputs": [],
   "source": [
    "white_test = het_white(model.resid,  model.model.exog)"
   ]
  },
  {
   "cell_type": "code",
   "execution_count": 50,
   "id": "74cb2ff6-4a22-471c-b672-663cef0b604b",
   "metadata": {},
   "outputs": [
    {
     "name": "stdout",
     "output_type": "stream",
     "text": [
      "{'Test Statistic': 31.37993037032994, 'Test Statistic p-value': 0.004902791195808574, 'F-Statistic': 2.395284765219569, 'F-Test p-value': 0.0037090363990622396}\n"
     ]
    }
   ],
   "source": [
    "labels = ['Test Statistic', 'Test Statistic p-value', 'F-Statistic', 'F-Test p-value']\n",
    "print(dict(zip(labels, white_test)))"
   ]
  },
  {
   "cell_type": "code",
   "execution_count": 51,
   "id": "923ae2e4-55ae-4dfa-a7c0-c7fc4ab18d7f",
   "metadata": {},
   "outputs": [],
   "source": [
    "# Let's run a 2-stage least squares regression\n",
    "from statsmodels.sandbox.regression.gmm import IV2SLS"
   ]
  },
  {
   "cell_type": "code",
   "execution_count": 52,
   "id": "b6dfefb6-5116-4d0a-ae52-b0040f877e97",
   "metadata": {},
   "outputs": [],
   "source": [
    "first_diff_as_instrumental_variable = df[\"education\"].diff()[1:]"
   ]
  },
  {
   "cell_type": "code",
   "execution_count": 53,
   "id": "765cc4b2-33db-4fb5-a706-ddc25c7e3265",
   "metadata": {},
   "outputs": [],
   "source": [
    "iv_result = IV2SLS(endog=df[\"gdp\"][1:], exog=df[\"education\"][1:], instrument=first_diff_as_instrumental_variable)"
   ]
  },
  {
   "cell_type": "code",
   "execution_count": 54,
   "id": "02db679f-a883-4ca1-9432-622633c55ee2",
   "metadata": {},
   "outputs": [],
   "source": [
    "iv_output = iv_result.fit()"
   ]
  },
  {
   "cell_type": "code",
   "execution_count": 55,
   "id": "34f1e732-3dab-4d85-87be-0020a73aebbb",
   "metadata": {},
   "outputs": [
    {
     "name": "stdout",
     "output_type": "stream",
     "text": [
      "                          IV2SLS Regression Results                           \n",
      "==============================================================================\n",
      "Dep. Variable:                    gdp   R-squared:                     -31.767\n",
      "Model:                         IV2SLS   Adj. R-squared:                -31.889\n",
      "Method:                     Two Stage   F-statistic:                       nan\n",
      "                        Least Squares   Prob (F-statistic):                nan\n",
      "Date:                Tue, 06 May 2025                                         \n",
      "Time:                        19:22:01                                         \n",
      "No. Observations:                 269                                         \n",
      "Df Residuals:                     268                                         \n",
      "Df Model:                           1                                         \n",
      "==============================================================================\n",
      "                 coef    std err          t      P>|t|      [0.025      0.975]\n",
      "------------------------------------------------------------------------------\n",
      "education     -4.7975      5.834     -0.822      0.412     -16.283       6.688\n",
      "==============================================================================\n",
      "Omnibus:                        1.549   Durbin-Watson:                   0.041\n",
      "Prob(Omnibus):                  0.461   Jarque-Bera (JB):                1.312\n",
      "Skew:                          -0.043   Prob(JB):                        0.519\n",
      "Kurtosis:                       3.331   Cond. No.                         1.00\n",
      "==============================================================================\n"
     ]
    }
   ],
   "source": [
    "print(iv_output.summary())"
   ]
  },
  {
   "cell_type": "code",
   "execution_count": 56,
   "id": "4af6d4ad-13f7-41ed-8cd9-79d76c10fd00",
   "metadata": {},
   "outputs": [],
   "source": [
    "import statsmodels.api as sm \n",
    "from statsmodels.formula.api import ols "
   ]
  },
  {
   "cell_type": "code",
   "execution_count": 57,
   "id": "10b2ae3d-eeae-4dd1-a247-79e64780b8d4",
   "metadata": {},
   "outputs": [],
   "source": [
    "mlt_regression = ols('gdp ~ defence + health + sport + education', data=df).fit() "
   ]
  },
  {
   "cell_type": "code",
   "execution_count": 58,
   "id": "20efdf8c-3ae6-4eba-8342-fc25e761676a",
   "metadata": {},
   "outputs": [
    {
     "name": "stdout",
     "output_type": "stream",
     "text": [
      "                            OLS Regression Results                            \n",
      "==============================================================================\n",
      "Dep. Variable:                    gdp   R-squared:                       0.127\n",
      "Model:                            OLS   Adj. R-squared:                  0.114\n",
      "Method:                 Least Squares   F-statistic:                     9.619\n",
      "Date:                Tue, 06 May 2025   Prob (F-statistic):           2.81e-07\n",
      "Time:                        19:22:01   Log-Likelihood:                -728.29\n",
      "No. Observations:                 270   AIC:                             1467.\n",
      "Df Residuals:                     265   BIC:                             1485.\n",
      "Df Model:                           4                                         \n",
      "Covariance Type:            nonrobust                                         \n",
      "==============================================================================\n",
      "                 coef    std err          t      P>|t|      [0.025      0.975]\n",
      "------------------------------------------------------------------------------\n",
      "Intercept     10.1326      1.360      7.449      0.000       7.454      12.811\n",
      "defence       -1.2926      0.418     -3.091      0.002      -2.116      -0.469\n",
      "health        -0.6610      0.161     -4.103      0.000      -0.978      -0.344\n",
      "sport         -2.5275      1.363     -1.854      0.065      -5.211       0.156\n",
      "education     -0.1258      0.266     -0.473      0.637      -0.650       0.398\n",
      "==============================================================================\n",
      "Omnibus:                       33.612   Durbin-Watson:                   2.239\n",
      "Prob(Omnibus):                  0.000   Jarque-Bera (JB):              188.372\n",
      "Skew:                           0.199   Prob(JB):                     1.25e-41\n",
      "Kurtosis:                       7.073   Cond. No.                         52.9\n",
      "==============================================================================\n",
      "\n",
      "Notes:\n",
      "[1] Standard Errors assume that the covariance matrix of the errors is correctly specified.\n"
     ]
    }
   ],
   "source": [
    "print(mlt_regression.summary())"
   ]
  },
  {
   "cell_type": "code",
   "execution_count": 59,
   "id": "42300820-52ce-46a8-8df5-db28697cd2ba",
   "metadata": {},
   "outputs": [
    {
     "data": {
      "text/plain": [
       "<Figure size 1400x800 with 0 Axes>"
      ]
     },
     "metadata": {},
     "output_type": "display_data"
    }
   ],
   "source": [
    "fig = plt.figure(figsize=(14, 8))"
   ]
  },
  {
   "cell_type": "code",
   "execution_count": 60,
   "id": "bbb184ab-f585-43f2-8091-23bcdff5f1b0",
   "metadata": {},
   "outputs": [
    {
     "data": {
      "image/png": "[encoded data removed]",
      "text/plain": [
       "<Figure size 1400x800 with 4 Axes>"
      ]
     },
     "execution_count": 60,
     "metadata": {},
     "output_type": "execute_result"
    }
   ],
   "source": [
    "sm.graphics.plot_regress_exog(mlt_regression, 'defence', fig=fig) "
   ]
  },
  {
   "cell_type": "code",
   "execution_count": 61,
   "id": "3d65f953-4f07-4cc2-9816-0f85e4a6f611",
   "metadata": {},
   "outputs": [],
   "source": [
    "from statsmodels.tsa.vector_ar.vecm import coint_johansen"
   ]
  },
  {
   "cell_type": "code",
   "execution_count": 121,
   "id": "d401c8a0-2154-411f-b8bc-2a264a738ee2",
   "metadata": {},
   "outputs": [],
   "source": [
    "new_df = df[[\"gdp\", \"defence\", \"education\"]]"
   ]
  },
  {
   "cell_type": "code",
   "execution_count": 122,
   "id": "6f9c976e-02dd-4e56-b79f-ff94d33d336b",
   "metadata": {},
   "outputs": [
    {
     "data": {
      "text/plain": [
       "(270, 3)"
      ]
     },
     "execution_count": 122,
     "metadata": {},
     "output_type": "execute_result"
    }
   ],
   "source": [
    "new_df.shape"
   ]
  },
  {
   "cell_type": "code",
   "execution_count": 124,
   "id": "6e20f7f8-3e8a-44ab-b64a-7daf420575e5",
   "metadata": {},
   "outputs": [],
   "source": [
    "specified_number = -1\n",
    "johansen_test_result = coint_johansen(new_df, specified_number, 1)"
   ]
  },
  {
   "cell_type": "code",
   "execution_count": 125,
   "id": "db271984-d2de-4c27-b309-ba235d24164d",
   "metadata": {},
   "outputs": [],
   "source": [
    "trace_stats = johansen_test_result.lr1\n",
    "eigen_stats = johansen_test_result.lr2"
   ]
  },
  {
   "cell_type": "code",
   "execution_count": 126,
   "id": "daf890cd-1650-452c-bb90-169e5ad11a98",
   "metadata": {},
   "outputs": [
    {
     "name": "stdout",
     "output_type": "stream",
     "text": [
      "Trace Statistics: [144.67894069  25.34461995   0.24787585]\n",
      "Eeigen Statistics: [119.33432075  25.0967441    0.24787585]\n",
      "Critical Values: [[21.7781 24.2761 29.5147]\n",
      " [10.4741 12.3212 16.364 ]\n",
      " [ 2.9762  4.1296  6.9406]]\n"
     ]
    }
   ],
   "source": [
    "print(f\"Trace Statistics: {johansen_test_result.lr1}\")\n",
    "print(f\"Eeigen Statistics: {johansen_test_result.lr2}\")\n",
    "print(f\"Critical Values: {johansen_test_result.cvt}\")"
   ]
  },
  {
   "cell_type": "code",
   "execution_count": 127,
   "id": "0287eca1-15e6-4fb3-ad66-d54ac851162e",
   "metadata": {},
   "outputs": [],
   "source": [
    "variable_pairs = [(df['gdp'], df['defence']), (df['gdp'], df['education']), (df['defence'], df['education'])]"
   ]
  },
  {
   "cell_type": "code",
   "execution_count": 175,
   "id": "f089799b-0140-4266-8830-15394560ee2b",
   "metadata": {},
   "outputs": [
    {
     "name": "stdout",
     "output_type": "stream",
     "text": [
      "Pair 1\n",
      "Trace Statistic: 144.67894069242394\n",
      "Eigen Statistic: 119.33432074713853\n",
      "------------------------------------\n",
      "Pair 2\n",
      "Trace Statistic: 25.34461994528539\n",
      "Eigen Statistic: 25.09674409556354\n",
      "------------------------------------\n",
      "Pair 3\n",
      "Trace Statistic: 0.2478758497218497\n",
      "Eigen Statistic: 0.2478758497218497\n",
      "------------------------------------\n"
     ]
    }
   ],
   "source": [
    "for i, (var_one, var_two) in enumerate(variable_pairs):\n",
    "    trace_statistic = trace_stats[i]\n",
    "    eigen_statistic = eigen_stats[i]\n",
    "    print(f\"Pair {i + 1}\")\n",
    "    print(f\"Trace Statistic: {trace_statistic}\")\n",
    "    print(f\"Eigen Statistic: {eigen_statistic}\")\n",
    "    print(\"-\" * 36)"
   ]
  },
  {
   "cell_type": "code",
   "execution_count": null,
   "id": "5392b42c-dfdd-4514-ac6d-56ecfb13411c",
   "metadata": {},
   "outputs": [],
   "source": []
  },
  {
   "cell_type": "code",
   "execution_count": null,
   "id": "e341b618-b91f-4a63-bf05-b9dfc97ae5fa",
   "metadata": {},
   "outputs": [],
   "source": []
  }
 ],
 "metadata": {
  "kernelspec": {
   "display_name": "Python 3 (ipykernel)",
   "language": "python",
   "name": "python3"
  },
  "language_info": {
   "codemirror_mode": {
    "name": "ipython",
    "version": 3
   },
   "file_extension": ".py",
   "mimetype": "text/x-python",
   "name": "python",
   "nbconvert_exporter": "python",
   "pygments_lexer": "ipython3",
   "version": "3.12.6"
  }
 },
 "nbformat": 4,
 "nbformat_minor": 5
}
