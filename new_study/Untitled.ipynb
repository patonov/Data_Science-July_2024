{
 "cells": [
  {
   "cell_type": "code",
   "execution_count": 1,
   "id": "a982326a-574d-4126-8e7d-cd84e455ff3f",
   "metadata": {},
   "outputs": [],
   "source": [
    "import numpy as np\n",
    "import pandas as pd\n",
    "import matplotlib.pyplot as plt"
   ]
  },
  {
   "cell_type": "code",
   "execution_count": 10,
   "id": "7e68b9b7-476e-4ee4-b489-db74213e9d0f",
   "metadata": {},
   "outputs": [],
   "source": [
    "df = pd.read_excel(\"new_panel.xlsx\")"
   ]
  },
  {
   "cell_type": "code",
   "execution_count": 17,
   "id": "412e17e8-dcb5-49eb-ae2b-d99230cf01f0",
   "metadata": {},
   "outputs": [],
   "source": [
    "df.columns = [\"country\", \"year\", \"gdp\"]"
   ]
  },
  {
   "cell_type": "code",
   "execution_count": 18,
   "id": "f59ffe55-7d13-4e37-b588-bc187568ae9a",
   "metadata": {},
   "outputs": [
    {
     "name": "stdout",
     "output_type": "stream",
     "text": [
      "<class 'pandas.core.frame.DataFrame'>\n",
      "RangeIndex: 324 entries, 0 to 323\n",
      "Data columns (total 3 columns):\n",
      " #   Column   Non-Null Count  Dtype  \n",
      "---  ------   --------------  -----  \n",
      " 0   country  324 non-null    object \n",
      " 1   year     324 non-null    int64  \n",
      " 2   gdp      324 non-null    float64\n",
      "dtypes: float64(1), int64(1), object(1)\n",
      "memory usage: 7.7+ KB\n"
     ]
    }
   ],
   "source": [
    "df.info()"
   ]
  },
  {
   "cell_type": "code",
   "execution_count": 22,
   "id": "aeeabbf1-9559-4d48-8a6d-2619a4062cc3",
   "metadata": {},
   "outputs": [
    {
     "data": {
      "text/plain": [
       "2.413148148148148"
      ]
     },
     "execution_count": 22,
     "metadata": {},
     "output_type": "execute_result"
    }
   ],
   "source": [
    "df[\"gdp\"].mean()"
   ]
  },
  {
   "cell_type": "code",
   "execution_count": 29,
   "id": "fd4efc5d-7836-4aa8-9488-469adbaf3e03",
   "metadata": {},
   "outputs": [
    {
     "data": {
      "text/plain": [
       "0.02840561176646634"
      ]
     },
     "execution_count": 29,
     "metadata": {},
     "output_type": "execute_result"
    }
   ],
   "source": [
    "df[\"gdp\"].autocorr()"
   ]
  },
  {
   "cell_type": "code",
   "execution_count": 31,
   "id": "aecd10df-f148-4f57-bd75-5bf536bd34cb",
   "metadata": {},
   "outputs": [
    {
     "data": {
      "text/plain": [
       "count    324.000000\n",
       "mean       2.413148\n",
       "std        3.664529\n",
       "min      -10.940000\n",
       "25%        0.852500\n",
       "50%        2.325000\n",
       "75%        4.052500\n",
       "max       24.620000\n",
       "Name: gdp, dtype: float64"
      ]
     },
     "execution_count": 31,
     "metadata": {},
     "output_type": "execute_result"
    }
   ],
   "source": [
    "df[\"gdp\"].describe()"
   ]
  },
  {
   "cell_type": "code",
   "execution_count": 32,
   "id": "78752dc6-1d8b-4af7-8e7c-e9359c206782",
   "metadata": {},
   "outputs": [
    {
     "data": {
      "text/plain": [
       "5.671243026707526"
      ]
     },
     "execution_count": 32,
     "metadata": {},
     "output_type": "execute_result"
    }
   ],
   "source": [
    "df[\"gdp\"].kurtosis()"
   ]
  },
  {
   "cell_type": "code",
   "execution_count": null,
   "id": "5d9e150f-2803-4683-8ab7-944a22151edd",
   "metadata": {},
   "outputs": [],
   "source": []
  }
 ],
 "metadata": {
  "kernelspec": {
   "display_name": "Python 3 (ipykernel)",
   "language": "python",
   "name": "python3"
  },
  "language_info": {
   "codemirror_mode": {
    "name": "ipython",
    "version": 3
   },
   "file_extension": ".py",
   "mimetype": "text/x-python",
   "name": "python",
   "nbconvert_exporter": "python",
   "pygments_lexer": "ipython3",
   "version": "3.12.6"
  }
 },
 "nbformat": 4,
 "nbformat_minor": 5
}
