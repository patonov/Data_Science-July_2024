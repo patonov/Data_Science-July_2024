{
 "cells": [
  {
   "cell_type": "code",
   "execution_count": 1,
   "id": "1b1927be-b3ca-4858-93e1-83348b9b931e",
   "metadata": {},
   "outputs": [],
   "source": [
    "import numpy as np\n",
    "import pandas as pd\n",
    "import matplotlib.pyplot as plt"
   ]
  },
  {
   "cell_type": "markdown",
   "id": "0a1bacf2-619d-4a97-bf91-e791cee8ce99",
   "metadata": {},
   "source": [
    "# Data Visualization and Exploratory Data Analysis Lab\n",
    "## Visualizing and exploring data. The data mining process"
   ]
  },
  {
   "cell_type": "markdown",
   "id": "7dd6a75a-59db-4b6f-b51c-79cfbffcef45",
   "metadata": {},
   "source": [
    "In this lab, you'll get acquainted with the most streamed songs on Spotify in 2024. The dataset and its associated metadata can be found [here](https://www.kaggle.com/datasets/nelgiriyewithana/most-streamed-spotify-songs-2024). The version you'll need is provided in the `data/` folder.\n",
    "\n",
    "You know the drill. Do what you can / want / need to answer the questions to the best of your ability. Answers do not need to be trivial, or even the same among different people."
   ]
  },
  {
   "cell_type": "markdown",
   "id": "b8cfbf65-857c-464e-98df-b6425b0b571d",
   "metadata": {},
   "source": [
    "### Problem 1. Read the dataset (1 point)\n",
    "Read the file without unzipping it first. You can try a different character encoding, like `unicode_escape`. Don't worry too much about weird characters."
   ]
  },
  {
   "cell_type": "code",
   "execution_count": 2,
   "id": "00d7946c-3f48-476e-8213-42d816ec1db2",
   "metadata": {},
   "outputs": [],
   "source": [
    "df = pd.read_csv(r'./data/MostStreamedSpotifySongs2024.csv', encoding='ISO-8859-1')"
   ]
  },
  {
   "cell_type": "code",
   "execution_count": 3,
   "id": "900d7940-cdd2-4323-a784-ed1b78653bd5",
   "metadata": {},
   "outputs": [
    {
     "data": {
      "text/plain": [
       "Track                          object\n",
       "Album Name                     object\n",
       "Artist                         object\n",
       "Release Date                   object\n",
       "ISRC                           object\n",
       "All Time Rank                  object\n",
       "Track Score                   float64\n",
       "Spotify Streams                object\n",
       "Spotify Playlist Count         object\n",
       "Spotify Playlist Reach         object\n",
       "Spotify Popularity            float64\n",
       "YouTube Views                  object\n",
       "YouTube Likes                  object\n",
       "TikTok Posts                   object\n",
       "TikTok Likes                   object\n",
       "TikTok Views                   object\n",
       "YouTube Playlist Reach         object\n",
       "Apple Music Playlist Count    float64\n",
       "AirPlay Spins                  object\n",
       "SiriusXM Spins                 object\n",
       "Deezer Playlist Count         float64\n",
       "Deezer Playlist Reach          object\n",
       "Amazon Playlist Count         float64\n",
       "Pandora Streams                object\n",
       "Pandora Track Stations         object\n",
       "Soundcloud Streams             object\n",
       "Shazam Counts                  object\n",
       "TIDAL Popularity              float64\n",
       "Explicit Track                  int64\n",
       "dtype: object"
      ]
     },
     "execution_count": 3,
     "metadata": {},
     "output_type": "execute_result"
    }
   ],
   "source": [
    "df.dtypes"
   ]
  },
  {
   "cell_type": "code",
   "execution_count": 4,
   "id": "899d5ad0-c6c8-400c-b80a-882087eaf47d",
   "metadata": {},
   "outputs": [],
   "source": [
    "df[\"YouTube Views\"] = (df[\"YouTube Views\"].str.replace(\",\", \"\")).astype(float)"
   ]
  },
  {
   "cell_type": "code",
   "execution_count": 5,
   "id": "ea5a5ff8-3d8e-4d03-98c1-8ffda472e2ed",
   "metadata": {},
   "outputs": [],
   "source": [
    "df[\"Release Date\"] = pd.to_datetime(df[\"Release Date\"])"
   ]
  },
  {
   "cell_type": "code",
   "execution_count": 6,
   "id": "ee0c6fae-db24-4c86-af7e-aa20a85a2a98",
   "metadata": {},
   "outputs": [],
   "source": [
    "df[\"All Time Rank\"] = (df[\"All Time Rank\"].str.replace(\",\", \"\")).astype(int, errors=\"ignore\")"
   ]
  },
  {
   "cell_type": "code",
   "execution_count": 7,
   "id": "c7793814-cbda-4a61-98d4-160099e04eda",
   "metadata": {},
   "outputs": [],
   "source": [
    "df[\"YouTube Likes\"] = (df[\"YouTube Likes\"].str.replace(\",\", \"\")).astype(float)\n",
    "df[\"TikTok Posts\"] = (df[\"TikTok Posts\"].str.replace(\",\", \"\")).astype(float)\n",
    "df[\"TikTok Likes\"] = (df[\"TikTok Likes\"].str.replace(\",\", \"\")).astype(float)\n",
    "df[\"TikTok Views\"] = (df[\"TikTok Views\"].str.replace(\",\", \"\")).astype(float)"
   ]
  },
  {
   "cell_type": "code",
   "execution_count": 8,
   "id": "5986ab63-a995-40d9-b2e3-21d0996d6fae",
   "metadata": {},
   "outputs": [],
   "source": [
    "df[\"YouTube Playlist Reach\"] = (df[\"YouTube Playlist Reach\"].str.replace(\",\", \"\")).astype(float)"
   ]
  },
  {
   "cell_type": "code",
   "execution_count": 9,
   "id": "39b7374c-9371-4d96-a559-d1d99c093daf",
   "metadata": {},
   "outputs": [
    {
     "data": {
      "text/plain": [
       "Track                                 object\n",
       "Album Name                            object\n",
       "Artist                                object\n",
       "Release Date                  datetime64[ns]\n",
       "ISRC                                  object\n",
       "All Time Rank                          int32\n",
       "Track Score                          float64\n",
       "Spotify Streams                       object\n",
       "Spotify Playlist Count                object\n",
       "Spotify Playlist Reach                object\n",
       "Spotify Popularity                   float64\n",
       "YouTube Views                        float64\n",
       "YouTube Likes                        float64\n",
       "TikTok Posts                         float64\n",
       "TikTok Likes                         float64\n",
       "TikTok Views                         float64\n",
       "YouTube Playlist Reach               float64\n",
       "Apple Music Playlist Count           float64\n",
       "AirPlay Spins                         object\n",
       "SiriusXM Spins                        object\n",
       "Deezer Playlist Count                float64\n",
       "Deezer Playlist Reach                 object\n",
       "Amazon Playlist Count                float64\n",
       "Pandora Streams                       object\n",
       "Pandora Track Stations                object\n",
       "Soundcloud Streams                    object\n",
       "Shazam Counts                         object\n",
       "TIDAL Popularity                     float64\n",
       "Explicit Track                         int64\n",
       "dtype: object"
      ]
     },
     "execution_count": 9,
     "metadata": {},
     "output_type": "execute_result"
    }
   ],
   "source": [
    "df.dtypes"
   ]
  },
  {
   "cell_type": "code",
   "execution_count": 10,
   "id": "6994032e-83eb-4542-ae04-7625e4d8de32",
   "metadata": {},
   "outputs": [
    {
     "data": {
      "text/plain": [
       "AirPlay Spins\n",
       "False    2835\n",
       "True     1267\n",
       "Name: count, dtype: int64"
      ]
     },
     "execution_count": 10,
     "metadata": {},
     "output_type": "execute_result"
    }
   ],
   "source": [
    "df[\"AirPlay Spins\"].str.isnumeric().value_counts()"
   ]
  },
  {
   "cell_type": "code",
   "execution_count": 11,
   "id": "30093b5e-d795-4e80-af49-260d41996a5f",
   "metadata": {},
   "outputs": [
    {
     "data": {
      "text/plain": [
       "0       True\n",
       "1       True\n",
       "2       True\n",
       "3       True\n",
       "4       True\n",
       "        ... \n",
       "4595    True\n",
       "4596    True\n",
       "4597    True\n",
       "4598    True\n",
       "4599    True\n",
       "Name: AirPlay Spins, Length: 4600, dtype: object"
      ]
     },
     "execution_count": 11,
     "metadata": {},
     "output_type": "execute_result"
    }
   ],
   "source": [
    "(df[\"AirPlay Spins\"].str.replace(\",\", \"\")).str.isnumeric()"
   ]
  },
  {
   "cell_type": "code",
   "execution_count": 12,
   "id": "5d1d0eb0-4171-40bc-95d2-8270ad88743d",
   "metadata": {},
   "outputs": [],
   "source": [
    "df[\"AirPlay Spins\"] = df[\"AirPlay Spins\"].str.replace(\",\", \"\").astype(float, errors=\"ignore\")"
   ]
  },
  {
   "cell_type": "code",
   "execution_count": 13,
   "id": "19a1d728-e6b6-4817-aea2-f890b946d685",
   "metadata": {},
   "outputs": [
    {
     "data": {
      "text/plain": [
       "0         40975.0\n",
       "1         40778.0\n",
       "2         74333.0\n",
       "3       1474799.0\n",
       "4         12185.0\n",
       "          ...    \n",
       "4595          6.0\n",
       "4596        412.0\n",
       "4597        204.0\n",
       "4598       1200.0\n",
       "4599       2083.0\n",
       "Name: AirPlay Spins, Length: 4600, dtype: float64"
      ]
     },
     "execution_count": 13,
     "metadata": {},
     "output_type": "execute_result"
    }
   ],
   "source": [
    "df[\"AirPlay Spins\"]"
   ]
  },
  {
   "cell_type": "code",
   "execution_count": 14,
   "id": "adb82661-dd02-46eb-bbcf-4486b50a5d33",
   "metadata": {},
   "outputs": [
    {
     "data": {
      "text/plain": [
       "False"
      ]
     },
     "execution_count": 14,
     "metadata": {},
     "output_type": "execute_result"
    }
   ],
   "source": [
    "df[\"Release Date\"].hasnans"
   ]
  },
  {
   "cell_type": "code",
   "execution_count": 15,
   "id": "64fe37eb-2476-4da7-8b79-7218c51440cb",
   "metadata": {},
   "outputs": [
    {
     "data": {
      "text/plain": [
       "Release Date\n",
       "2017-04-11     1\n",
       "2021-01-31     1\n",
       "2014-01-13     1\n",
       "2020-12-06     1\n",
       "2021-01-27     1\n",
       "              ..\n",
       "2014-01-01    28\n",
       "2023-10-13    28\n",
       "2024-04-12    29\n",
       "2013-01-01    34\n",
       "2012-01-01    38\n",
       "Name: count, Length: 1562, dtype: int64"
      ]
     },
     "execution_count": 15,
     "metadata": {},
     "output_type": "execute_result"
    }
   ],
   "source": [
    "df[\"Release Date\"].value_counts().sort_values(ascending=True)"
   ]
  },
  {
   "cell_type": "markdown",
   "id": "84bb1876-3ab5-4d66-86f6-7e1ede99fffe",
   "metadata": {},
   "source": [
    "### Problem 2. Perform some cleaning (1 point)\n",
    "Ensure all data has been read correctly; check the data types. Give the columns better names (e.g. `all_time_rank`, `track_score`, etc.). To do so, try to use `apply()` instead of a manual mapping between old and new name. Get rid of any unnecessary ones."
   ]
  },
  {
   "cell_type": "code",
   "execution_count": 16,
   "id": "b0a8a054-a18f-42b5-8dc3-e840e816f27c",
   "metadata": {},
   "outputs": [],
   "source": [
    "#I did it above. Nevertheless, cleaning has no end. :@ :@ :@"
   ]
  },
  {
   "cell_type": "markdown",
   "id": "0ae40d8d-4831-484d-a464-dda392703366",
   "metadata": {},
   "source": [
    "### Problem 3. Most productive artists (1 point)\n",
    "Who are the five artists with the most songs in the dataset?\n",
    "\n",
    "Who are the five \"clean-mouthed\" artists (i.e., with no explicit songs)? **Note:** We're not going into details but we can start a discussion about whether a song needs swearing to be popular."
   ]
  },
  {
   "cell_type": "code",
   "execution_count": 17,
   "id": "49d45c5d-ae65-4324-b869-c5075667f690",
   "metadata": {},
   "outputs": [
    {
     "data": {
      "text/plain": [
       "Artist\n",
       "Drake                       63\n",
       "Taylor Swift                63\n",
       "Bad Bunny                   60\n",
       "KAROL G                     32\n",
       "The Weeknd                  31\n",
       "                            ..\n",
       "Carrier                      1\n",
       "Javed Ali                    1\n",
       "The King Khan & BBQ Show     1\n",
       "Marca MP                     1\n",
       "BUSHIDO ZHO                  1\n",
       "Name: count, Length: 1999, dtype: int64"
      ]
     },
     "execution_count": 17,
     "metadata": {},
     "output_type": "execute_result"
    }
   ],
   "source": [
    "df[\"Artist\"].value_counts()"
   ]
  },
  {
   "cell_type": "markdown",
   "id": "25ee2949-c7ce-4c30-8836-1fa443d245e9",
   "metadata": {},
   "source": [
    "### Problem 4. Most streamed artists (1 point)\n",
    "And who are the top five most streamed (as measured by Spotify streams) artists?"
   ]
  },
  {
   "cell_type": "code",
   "execution_count": 18,
   "id": "aeb0384d-daa4-482e-b5ff-dbe8abca0688",
   "metadata": {},
   "outputs": [],
   "source": [
    "df[\"Spotify Streams\"] = df[\"Spotify Streams\"].str.replace(\",\", \"\").astype(float, errors=\"ignore\")"
   ]
  },
  {
   "cell_type": "code",
   "execution_count": 19,
   "id": "2d75752b-055f-4593-9899-05200c82828a",
   "metadata": {},
   "outputs": [
    {
     "data": {
      "text/plain": [
       "0       3.904709e+08\n",
       "1       3.237039e+08\n",
       "2       6.013093e+08\n",
       "3       2.031281e+09\n",
       "4       1.070349e+08\n",
       "            ...     \n",
       "4595    3.050500e+08\n",
       "4596    5.228236e+07\n",
       "4597    1.899727e+08\n",
       "4598    1.454670e+08\n",
       "4599    2.557407e+08\n",
       "Name: Spotify Streams, Length: 4600, dtype: float64"
      ]
     },
     "execution_count": 19,
     "metadata": {},
     "output_type": "execute_result"
    }
   ],
   "source": [
    "df[\"Spotify Streams\"]"
   ]
  },
  {
   "cell_type": "code",
   "execution_count": 20,
   "id": "89c1fa01-c380-42a0-9fa1-e0da06c8bc51",
   "metadata": {},
   "outputs": [],
   "source": [
    "df_special = df[[\"Spotify Streams\", \"Artist\"]]"
   ]
  },
  {
   "cell_type": "code",
   "execution_count": 21,
   "id": "8be0f92a-b643-47ad-8bbb-d7fc55c4290c",
   "metadata": {},
   "outputs": [],
   "source": [
    "groups = df_special.groupby(\"Artist\").sum()"
   ]
  },
  {
   "cell_type": "code",
   "execution_count": 22,
   "id": "cfc2c39e-1dd0-48a5-8a5b-c9caf9fce14a",
   "metadata": {},
   "outputs": [
    {
     "data": {
      "text/html": [
       "<div>\n",
       "<style scoped>\n",
       "    .dataframe tbody tr th:only-of-type {\n",
       "        vertical-align: middle;\n",
       "    }\n",
       "\n",
       "    .dataframe tbody tr th {\n",
       "        vertical-align: top;\n",
       "    }\n",
       "\n",
       "    .dataframe thead th {\n",
       "        text-align: right;\n",
       "    }\n",
       "</style>\n",
       "<table border=\"1\" class=\"dataframe\">\n",
       "  <thead>\n",
       "    <tr style=\"text-align: right;\">\n",
       "      <th></th>\n",
       "      <th>Spotify Streams</th>\n",
       "    </tr>\n",
       "    <tr>\n",
       "      <th>Artist</th>\n",
       "      <th></th>\n",
       "    </tr>\n",
       "  </thead>\n",
       "  <tbody>\n",
       "    <tr>\n",
       "      <th>Bad Bunny</th>\n",
       "      <td>3.705483e+10</td>\n",
       "    </tr>\n",
       "    <tr>\n",
       "      <th>The Weeknd</th>\n",
       "      <td>3.694854e+10</td>\n",
       "    </tr>\n",
       "    <tr>\n",
       "      <th>Drake</th>\n",
       "      <td>3.496216e+10</td>\n",
       "    </tr>\n",
       "    <tr>\n",
       "      <th>Taylor Swift</th>\n",
       "      <td>3.447077e+10</td>\n",
       "    </tr>\n",
       "    <tr>\n",
       "      <th>Post Malone</th>\n",
       "      <td>2.613747e+10</td>\n",
       "    </tr>\n",
       "    <tr>\n",
       "      <th>...</th>\n",
       "      <td>...</td>\n",
       "    </tr>\n",
       "    <tr>\n",
       "      <th>Hassan Goldy</th>\n",
       "      <td>0.000000e+00</td>\n",
       "    </tr>\n",
       "    <tr>\n",
       "      <th>Hollywood Dots The Oncelor</th>\n",
       "      <td>0.000000e+00</td>\n",
       "    </tr>\n",
       "    <tr>\n",
       "      <th>Hot Lemon</th>\n",
       "      <td>0.000000e+00</td>\n",
       "    </tr>\n",
       "    <tr>\n",
       "      <th>Ian G.</th>\n",
       "      <td>0.000000e+00</td>\n",
       "    </tr>\n",
       "    <tr>\n",
       "      <th>\"XY\"</th>\n",
       "      <td>0.000000e+00</td>\n",
       "    </tr>\n",
       "  </tbody>\n",
       "</table>\n",
       "<p>1999 rows × 1 columns</p>\n",
       "</div>"
      ],
      "text/plain": [
       "                            Spotify Streams\n",
       "Artist                                     \n",
       "Bad Bunny                      3.705483e+10\n",
       "The Weeknd                     3.694854e+10\n",
       "Drake                          3.496216e+10\n",
       "Taylor Swift                   3.447077e+10\n",
       "Post Malone                    2.613747e+10\n",
       "...                                     ...\n",
       "Hassan Goldy                   0.000000e+00\n",
       "Hollywood Dots The Oncelor     0.000000e+00\n",
       "Hot Lemon                      0.000000e+00\n",
       "Ian G.                         0.000000e+00\n",
       "\"XY\"                           0.000000e+00\n",
       "\n",
       "[1999 rows x 1 columns]"
      ]
     },
     "execution_count": 22,
     "metadata": {},
     "output_type": "execute_result"
    }
   ],
   "source": [
    "groups.sort_values(by=[\"Spotify Streams\"], ascending=False)"
   ]
  },
  {
   "cell_type": "markdown",
   "id": "30fa25c3-abd4-4f04-859a-e00e781adaa8",
   "metadata": {},
   "source": [
    "### Problem 5. Songs by year and month (1 point)\n",
    "How many songs have been released each year? Present an appropriate plot. Can you explain the behavior of the plot for 2024?\n",
    "\n",
    "How about months? Is / Are there (a) popular month(s) to release music?"
   ]
  },
  {
   "cell_type": "code",
   "execution_count": 23,
   "id": "6bfca544-a5b2-40b1-9678-c4dbeff75423",
   "metadata": {},
   "outputs": [],
   "source": [
    "df['year'] = df[\"Release Date\"].dt.year"
   ]
  },
  {
   "cell_type": "code",
   "execution_count": 24,
   "id": "115d98c8-68b5-46a6-a8c4-bd2405e17a98",
   "metadata": {},
   "outputs": [],
   "source": [
    "df_new_special = df[[\"year\", \"Track\"]]"
   ]
  },
  {
   "cell_type": "code",
   "execution_count": 25,
   "id": "d92b25b7-bce0-4750-9f6e-f58cb921e0b4",
   "metadata": {},
   "outputs": [],
   "source": [
    "groupsTracksOfYears = df_new_special.groupby('year').count()"
   ]
  },
  {
   "cell_type": "code",
   "execution_count": 26,
   "id": "0eafd75f-8b9c-43c9-a32c-9a349178a22b",
   "metadata": {},
   "outputs": [
    {
     "data": {
      "text/html": [
       "<div>\n",
       "<style scoped>\n",
       "    .dataframe tbody tr th:only-of-type {\n",
       "        vertical-align: middle;\n",
       "    }\n",
       "\n",
       "    .dataframe tbody tr th {\n",
       "        vertical-align: top;\n",
       "    }\n",
       "\n",
       "    .dataframe thead th {\n",
       "        text-align: right;\n",
       "    }\n",
       "</style>\n",
       "<table border=\"1\" class=\"dataframe\">\n",
       "  <thead>\n",
       "    <tr style=\"text-align: right;\">\n",
       "      <th></th>\n",
       "      <th>Track</th>\n",
       "    </tr>\n",
       "    <tr>\n",
       "      <th>year</th>\n",
       "      <th></th>\n",
       "    </tr>\n",
       "  </thead>\n",
       "  <tbody>\n",
       "    <tr>\n",
       "      <th>1987</th>\n",
       "      <td>1</td>\n",
       "    </tr>\n",
       "    <tr>\n",
       "      <th>1991</th>\n",
       "      <td>1</td>\n",
       "    </tr>\n",
       "    <tr>\n",
       "      <th>1994</th>\n",
       "      <td>1</td>\n",
       "    </tr>\n",
       "    <tr>\n",
       "      <th>1998</th>\n",
       "      <td>1</td>\n",
       "    </tr>\n",
       "    <tr>\n",
       "      <th>1999</th>\n",
       "      <td>1</td>\n",
       "    </tr>\n",
       "    <tr>\n",
       "      <th>2000</th>\n",
       "      <td>2</td>\n",
       "    </tr>\n",
       "    <tr>\n",
       "      <th>2001</th>\n",
       "      <td>1</td>\n",
       "    </tr>\n",
       "    <tr>\n",
       "      <th>2002</th>\n",
       "      <td>5</td>\n",
       "    </tr>\n",
       "    <tr>\n",
       "      <th>2003</th>\n",
       "      <td>3</td>\n",
       "    </tr>\n",
       "    <tr>\n",
       "      <th>2004</th>\n",
       "      <td>5</td>\n",
       "    </tr>\n",
       "    <tr>\n",
       "      <th>2005</th>\n",
       "      <td>5</td>\n",
       "    </tr>\n",
       "    <tr>\n",
       "      <th>2006</th>\n",
       "      <td>3</td>\n",
       "    </tr>\n",
       "    <tr>\n",
       "      <th>2007</th>\n",
       "      <td>5</td>\n",
       "    </tr>\n",
       "    <tr>\n",
       "      <th>2008</th>\n",
       "      <td>11</td>\n",
       "    </tr>\n",
       "    <tr>\n",
       "      <th>2009</th>\n",
       "      <td>15</td>\n",
       "    </tr>\n",
       "    <tr>\n",
       "      <th>2010</th>\n",
       "      <td>27</td>\n",
       "    </tr>\n",
       "    <tr>\n",
       "      <th>2011</th>\n",
       "      <td>51</td>\n",
       "    </tr>\n",
       "    <tr>\n",
       "      <th>2012</th>\n",
       "      <td>47</td>\n",
       "    </tr>\n",
       "    <tr>\n",
       "      <th>2013</th>\n",
       "      <td>55</td>\n",
       "    </tr>\n",
       "    <tr>\n",
       "      <th>2014</th>\n",
       "      <td>70</td>\n",
       "    </tr>\n",
       "    <tr>\n",
       "      <th>2015</th>\n",
       "      <td>96</td>\n",
       "    </tr>\n",
       "    <tr>\n",
       "      <th>2016</th>\n",
       "      <td>123</td>\n",
       "    </tr>\n",
       "    <tr>\n",
       "      <th>2017</th>\n",
       "      <td>213</td>\n",
       "    </tr>\n",
       "    <tr>\n",
       "      <th>2018</th>\n",
       "      <td>249</td>\n",
       "    </tr>\n",
       "    <tr>\n",
       "      <th>2019</th>\n",
       "      <td>296</td>\n",
       "    </tr>\n",
       "    <tr>\n",
       "      <th>2020</th>\n",
       "      <td>360</td>\n",
       "    </tr>\n",
       "    <tr>\n",
       "      <th>2021</th>\n",
       "      <td>408</td>\n",
       "    </tr>\n",
       "    <tr>\n",
       "      <th>2022</th>\n",
       "      <td>694</td>\n",
       "    </tr>\n",
       "    <tr>\n",
       "      <th>2023</th>\n",
       "      <td>1158</td>\n",
       "    </tr>\n",
       "    <tr>\n",
       "      <th>2024</th>\n",
       "      <td>693</td>\n",
       "    </tr>\n",
       "  </tbody>\n",
       "</table>\n",
       "</div>"
      ],
      "text/plain": [
       "      Track\n",
       "year       \n",
       "1987      1\n",
       "1991      1\n",
       "1994      1\n",
       "1998      1\n",
       "1999      1\n",
       "2000      2\n",
       "2001      1\n",
       "2002      5\n",
       "2003      3\n",
       "2004      5\n",
       "2005      5\n",
       "2006      3\n",
       "2007      5\n",
       "2008     11\n",
       "2009     15\n",
       "2010     27\n",
       "2011     51\n",
       "2012     47\n",
       "2013     55\n",
       "2014     70\n",
       "2015     96\n",
       "2016    123\n",
       "2017    213\n",
       "2018    249\n",
       "2019    296\n",
       "2020    360\n",
       "2021    408\n",
       "2022    694\n",
       "2023   1158\n",
       "2024    693"
      ]
     },
     "execution_count": 26,
     "metadata": {},
     "output_type": "execute_result"
    }
   ],
   "source": [
    "groupsTracksOfYears"
   ]
  },
  {
   "cell_type": "code",
   "execution_count": 27,
   "id": "65daf8b4-14f8-4fac-959b-1c724eb5ed0f",
   "metadata": {},
   "outputs": [],
   "source": [
    "years = df_new_special[\"year\"].value_counts()"
   ]
  },
  {
   "cell_type": "code",
   "execution_count": 28,
   "id": "8b306534-f4ce-44c7-ab30-ef340ae64287",
   "metadata": {},
   "outputs": [
    {
     "data": {
      "image/png": "[encoded data removed]",
      "text/plain": [
       "<Figure size 640x480 with 1 Axes>"
      ]
     },
     "metadata": {},
     "output_type": "display_data"
    }
   ],
   "source": [
    "plt.bar(years.index, years)\n",
    "\n",
    "plt.scatter(years.idxmax(), years.max(), marker = \"s\", color = \"orange\")\n",
    "\n",
    "plt.xticks(range(1987, 2025, 5))\n",
    "plt.grid()\n",
    "\n",
    "plt.xlabel(\"Year of release\")\n",
    "plt.ylabel(\"Number of songs released\")\n",
    "\n",
    "plt.show()"
   ]
  },
  {
   "cell_type": "markdown",
   "id": "d83c5535-72dc-4670-81a3-8ca244233a46",
   "metadata": {},
   "source": [
    "### Problem 6. Playlists (2 points)\n",
    "Is there any connection (correlation) between users adding a song to playlists in one service, or another? Only Spotify, Apple, Deezer, and Amazon offer the ability to add a song to a playlist. Find a way to plot all these relationships at the same time, and analyze them. Experiment with different types of correlations."
   ]
  },
  {
   "cell_type": "code",
   "execution_count": 30,
   "id": "b3f3424e-2abd-40b2-9d4d-6446f66c6e22",
   "metadata": {},
   "outputs": [],
   "source": [
    "df_new_deezer = df[[\"year\", \"Deezer Playlist Count\"]]\n",
    "df_new_amazon = df[[\"year\", \"Amazon Playlist Count\"]]"
   ]
  },
  {
   "cell_type": "code",
   "execution_count": 31,
   "id": "9ead1b24-b1be-4659-bcff-d519ac49668b",
   "metadata": {},
   "outputs": [],
   "source": [
    "yearsDeezer = df_new_deezer[\"year\"].value_counts()\n",
    "yearsAmazon = df_new_amazon[\"year\"].value_counts()"
   ]
  },
  {
   "cell_type": "code",
   "execution_count": 65,
   "id": "d3db5ed8-10e4-4f3d-9e20-ddc03371ba58",
   "metadata": {},
   "outputs": [
    {
     "data": {
      "image/png": "[encoded data removed]",
      "text/plain": [
       "<Figure size 640x480 with 2 Axes>"
      ]
     },
     "metadata": {},
     "output_type": "display_data"
    }
   ],
   "source": [
    "fig, ax1 = plt.subplots()\n",
    "\n",
    "ax1.bar(years.index, years, label=\"Songs released\", color=\"green\")\n",
    "ax1.plot(yearsDeezer, label = \"Songs in Deezer PlayLists\", linestyle=\"-\", color=\"orange\")\n",
    "\n",
    "ax2 = ax1.twinx()\n",
    "\n",
    "ax2.plot(yearsAmazon, label = \"Songs in Amazon PlayLists\", linestyle=\"--\", color=\"red\")\n",
    "\n",
    "fig.tight_layout()\n",
    "\n",
    "fig.legend(bbox_to_anchor=(0.75, 1.15), ncol=2)\n",
    "plt.show()"
   ]
  },
  {
   "cell_type": "markdown",
   "id": "e78b8307-de74-4cb4-ba61-da4e7c9fc6c6",
   "metadata": {},
   "source": [
    "### Problem 7. YouTube views and likes (1 point)\n",
    "What is the relationship between YouTube views and likes? Present an appropriate plot. \n",
    "\n",
    "What is the mean YouTube views-to-likes ratio? What is its distribution? Find a way to plot it and describe it."
   ]
  },
  {
   "cell_type": "code",
   "execution_count": null,
   "id": "bf3c3dd5-7466-4dec-9fc3-14a5690da4b4",
   "metadata": {},
   "outputs": [],
   "source": []
  },
  {
   "cell_type": "markdown",
   "id": "7fc028b8-362f-4d5e-9958-72ed876f83fc",
   "metadata": {},
   "source": [
    "### Problem 8. TikTok stuff (2 points)\n",
    "The most popular songs on TikTok released every year show... interesting behavior. Which years peaked the most TikTok views? Show an appropriate chart. Can you explain this behavior? For a bit of context, TikTok was created in 2016.\n",
    "\n",
    "Now, how much popular is the most popular song for each release year, than the mean popularity? Analyze the results.\n",
    "\n",
    "In both parts, it would be helpful to see the actual songs."
   ]
  },
  {
   "cell_type": "code",
   "execution_count": null,
   "id": "3ecec32f-7ddb-449d-9b69-8157705cc319",
   "metadata": {},
   "outputs": [],
   "source": []
  },
  {
   "cell_type": "markdown",
   "id": "d6d06ba6-54fe-4514-b9f3-50b5ac541b50",
   "metadata": {},
   "source": [
    "### * Problem 9. Explore (and clean) at will\n",
    "There is a lot to look for here. For example, you can easily link a song to its genres, and lyrics. You may also try to link artists and albums to more info about them. Or you can compare and contrast a song's performance across different platforms, in a similar manner to what you already did above; maybe even assign a better song ranking system (across platforms with different popularity metrics, and different requirements) than the one provided in the dataset."
   ]
  },
  {
   "cell_type": "code",
   "execution_count": null,
   "id": "844a9811-c034-4bcf-96c4-8b69f743a330",
   "metadata": {},
   "outputs": [],
   "source": []
  }
 ],
 "metadata": {
  "kernelspec": {
   "display_name": "Python 3 (ipykernel)",
   "language": "python",
   "name": "python3"
  },
  "language_info": {
   "codemirror_mode": {
    "name": "ipython",
    "version": 3
   },
   "file_extension": ".py",
   "mimetype": "text/x-python",
   "name": "python",
   "nbconvert_exporter": "python",
   "pygments_lexer": "ipython3",
   "version": "3.12.1"
  }
 },
 "nbformat": 4,
 "nbformat_minor": 5
}
