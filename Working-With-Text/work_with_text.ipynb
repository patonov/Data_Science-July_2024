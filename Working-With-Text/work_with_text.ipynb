{
 "cells": [
  {
   "cell_type": "code",
   "execution_count": 2,
   "id": "04db17e5-25b3-4d1a-8d93-a68a6468e3a1",
   "metadata": {},
   "outputs": [],
   "source": [
    "import numpy as np\n",
    "import pandas as pd\n",
    "import matplotlib.pyplot as plt"
   ]
  },
  {
   "cell_type": "code",
   "execution_count": 3,
   "id": "61da2830-dca4-46f9-96a8-1eac82fb8692",
   "metadata": {},
   "outputs": [],
   "source": [
    "restauran_data = pd.read_csv(\"European Restaurant Reviews.csv\", header=None)"
   ]
  },
  {
   "cell_type": "code",
   "execution_count": 4,
   "id": "01fbdbe6-a767-489a-bcf0-5405f53dfcd9",
   "metadata": {},
   "outputs": [],
   "source": [
    "idx = 0\n",
    "restauran_data.insert(idx, 'index', value=range(len(restauran_data)))"
   ]
  },
  {
   "cell_type": "code",
   "execution_count": 5,
   "id": "ef8b962b-fe48-4fd7-a51a-65478f50a959",
   "metadata": {},
   "outputs": [],
   "source": [
    "restauran_data.columns = [\"index\", \"country\", \"restaurant_name\", \"review_sentiment\", \"review_date\", \"review_title\", \"review_text\"]"
   ]
  },
  {
   "cell_type": "code",
   "execution_count": 6,
   "id": "a06a6cd6-c3d8-4d63-b60c-cb0a3dbc93e5",
   "metadata": {},
   "outputs": [
    {
     "name": "stdout",
     "output_type": "stream",
     "text": [
      "<class 'pandas.core.frame.DataFrame'>\n",
      "RangeIndex: 1503 entries, 0 to 1502\n",
      "Data columns (total 7 columns):\n",
      " #   Column            Non-Null Count  Dtype \n",
      "---  ------            --------------  ----- \n",
      " 0   index             1503 non-null   int64 \n",
      " 1   country           1503 non-null   object\n",
      " 2   restaurant_name   1503 non-null   object\n",
      " 3   review_sentiment  1503 non-null   object\n",
      " 4   review_date       1503 non-null   object\n",
      " 5   review_title      1503 non-null   object\n",
      " 6   review_text       1503 non-null   object\n",
      "dtypes: int64(1), object(6)\n",
      "memory usage: 82.3+ KB\n"
     ]
    }
   ],
   "source": [
    "restauran_data.info()"
   ]
  },
  {
   "cell_type": "code",
   "execution_count": 7,
   "id": "9f5726be-da1f-4419-a81b-12d06d10768c",
   "metadata": {},
   "outputs": [
    {
     "data": {
      "text/plain": [
       "8"
      ]
     },
     "execution_count": 7,
     "metadata": {},
     "output_type": "execute_result"
    }
   ],
   "source": [
    "restauran_data.restaurant_name.nunique()"
   ]
  },
  {
   "cell_type": "code",
   "execution_count": 8,
   "id": "414de2db-934c-4e20-ad25-1b59c035ac06",
   "metadata": {},
   "outputs": [
    {
     "name": "stdout",
     "output_type": "stream",
     "text": [
      "\n",
      "France,The Frog at Bercy Village,Negative,Rude manager,May 2024 •,The manager became agressive when I said the carbonara was not good.\n"
     ]
    }
   ],
   "source": [
    "with open(\"European Restaurant Reviews.csv\", \"r\", encoding='utf-8') as yuhuu:\n",
    "    print(yuhuu.read()[65:200])"
   ]
  },
  {
   "cell_type": "code",
   "execution_count": 9,
   "id": "10b33c93-6558-40a8-8fef-cbd351415c44",
   "metadata": {},
   "outputs": [
    {
     "data": {
      "text/plain": [
       "103    3679\n",
       "28     3555\n",
       "67     3516\n",
       "99     3106\n",
       "102    3087\n",
       "       ... \n",
       "537      71\n",
       "145      71\n",
       "120      71\n",
       "184      10\n",
       "0         6\n",
       "Name: review_text, Length: 1503, dtype: int64"
      ]
     },
     "execution_count": 9,
     "metadata": {},
     "output_type": "execute_result"
    }
   ],
   "source": [
    "restauran_data.review_text.str.len().sort_values(ascending=False)"
   ]
  },
  {
   "cell_type": "code",
   "execution_count": 10,
   "id": "f589566c-f752-4bc5-bf33-0d4d1e8661c2",
   "metadata": {},
   "outputs": [
    {
     "data": {
      "text/plain": [
       "366.19827012641383"
      ]
     },
     "execution_count": 10,
     "metadata": {},
     "output_type": "execute_result"
    }
   ],
   "source": [
    "restauran_data.review_text.str.len().mean()"
   ]
  },
  {
   "cell_type": "code",
   "execution_count": 11,
   "id": "4ec8c48d-ab93-4ceb-a107-6aecba8043b9",
   "metadata": {},
   "outputs": [
    {
     "data": {
      "text/plain": [
       "235.0"
      ]
     },
     "execution_count": 11,
     "metadata": {},
     "output_type": "execute_result"
    }
   ],
   "source": [
    "restauran_data.review_text.str.len().median()"
   ]
  },
  {
   "cell_type": "code",
   "execution_count": 12,
   "id": "1a43c69a-5118-4cb0-b7f9-62abca94d137",
   "metadata": {},
   "outputs": [
    {
     "name": "stdout",
     "output_type": "stream",
     "text": [
      "Negative 517.0\n",
      "Positive 214.0\n",
      "Sentiment 6.0\n"
     ]
    }
   ],
   "source": [
    "for sentiment, group_data in restauran_data.groupby(\"review_sentiment\"):\n",
    "    print(sentiment, group_data.review_text.str.len().median())"
   ]
  },
  {
   "cell_type": "code",
   "execution_count": null,
   "id": "8b6a707d-87d5-448b-8512-54288f8660e2",
   "metadata": {},
   "outputs": [],
   "source": []
  }
 ],
 "metadata": {
  "kernelspec": {
   "display_name": "Python 3 (ipykernel)",
   "language": "python",
   "name": "python3"
  },
  "language_info": {
   "codemirror_mode": {
    "name": "ipython",
    "version": 3
   },
   "file_extension": ".py",
   "mimetype": "text/x-python",
   "name": "python",
   "nbconvert_exporter": "python",
   "pygments_lexer": "ipython3",
   "version": "3.12.6"
  }
 },
 "nbformat": 4,
 "nbformat_minor": 5
}
