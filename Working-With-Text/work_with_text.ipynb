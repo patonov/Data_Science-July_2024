{
 "cells": [
  {
   "cell_type": "code",
   "execution_count": 35,
   "id": "04db17e5-25b3-4d1a-8d93-a68a6468e3a1",
   "metadata": {},
   "outputs": [],
   "source": [
    "import numpy as np\n",
    "import pandas as pd\n",
    "import matplotlib.pyplot as plt\n",
    "\n",
    "from collections import Counter"
   ]
  },
  {
   "cell_type": "code",
   "execution_count": 36,
   "id": "61da2830-dca4-46f9-96a8-1eac82fb8692",
   "metadata": {},
   "outputs": [],
   "source": [
    "restauran_data = pd.read_csv(\"European Restaurant Reviews.csv\", header=None)"
   ]
  },
  {
   "cell_type": "code",
   "execution_count": 37,
   "id": "01fbdbe6-a767-489a-bcf0-5405f53dfcd9",
   "metadata": {},
   "outputs": [],
   "source": [
    "idx = 0\n",
    "restauran_data.insert(idx, 'index', value=range(len(restauran_data)))"
   ]
  },
  {
   "cell_type": "code",
   "execution_count": 38,
   "id": "ef8b962b-fe48-4fd7-a51a-65478f50a959",
   "metadata": {},
   "outputs": [],
   "source": [
    "restauran_data.columns = [\"index\", \"country\", \"restaurant_name\", \"review_sentiment\", \"review_date\", \"review_title\", \"review_text\"]"
   ]
  },
  {
   "cell_type": "code",
   "execution_count": 39,
   "id": "a06a6cd6-c3d8-4d63-b60c-cb0a3dbc93e5",
   "metadata": {},
   "outputs": [
    {
     "name": "stdout",
     "output_type": "stream",
     "text": [
      "<class 'pandas.core.frame.DataFrame'>\n",
      "RangeIndex: 1503 entries, 0 to 1502\n",
      "Data columns (total 7 columns):\n",
      " #   Column            Non-Null Count  Dtype \n",
      "---  ------            --------------  ----- \n",
      " 0   index             1503 non-null   int64 \n",
      " 1   country           1503 non-null   object\n",
      " 2   restaurant_name   1503 non-null   object\n",
      " 3   review_sentiment  1503 non-null   object\n",
      " 4   review_date       1503 non-null   object\n",
      " 5   review_title      1503 non-null   object\n",
      " 6   review_text       1503 non-null   object\n",
      "dtypes: int64(1), object(6)\n",
      "memory usage: 82.3+ KB\n"
     ]
    }
   ],
   "source": [
    "restauran_data.info()"
   ]
  },
  {
   "cell_type": "code",
   "execution_count": 40,
   "id": "9f5726be-da1f-4419-a81b-12d06d10768c",
   "metadata": {},
   "outputs": [
    {
     "data": {
      "text/plain": [
       "8"
      ]
     },
     "execution_count": 40,
     "metadata": {},
     "output_type": "execute_result"
    }
   ],
   "source": [
    "restauran_data.restaurant_name.nunique()"
   ]
  },
  {
   "cell_type": "code",
   "execution_count": 41,
   "id": "414de2db-934c-4e20-ad25-1b59c035ac06",
   "metadata": {},
   "outputs": [
    {
     "name": "stdout",
     "output_type": "stream",
     "text": [
      "\n",
      "France,The Frog at Bercy Village,Negative,Rude manager,May 2024 •,The manager became agressive when I said the carbonara was not good.\n"
     ]
    }
   ],
   "source": [
    "with open(\"European Restaurant Reviews.csv\", \"r\", encoding='utf-8') as yuhuu:\n",
    "    print(yuhuu.read()[65:200])"
   ]
  },
  {
   "cell_type": "code",
   "execution_count": 42,
   "id": "10b33c93-6558-40a8-8fef-cbd351415c44",
   "metadata": {},
   "outputs": [
    {
     "data": {
      "text/plain": [
       "103    3679\n",
       "28     3555\n",
       "67     3516\n",
       "99     3106\n",
       "102    3087\n",
       "       ... \n",
       "537      71\n",
       "145      71\n",
       "120      71\n",
       "184      10\n",
       "0         6\n",
       "Name: review_text, Length: 1503, dtype: int64"
      ]
     },
     "execution_count": 42,
     "metadata": {},
     "output_type": "execute_result"
    }
   ],
   "source": [
    "restauran_data.review_text.str.len().sort_values(ascending=False)"
   ]
  },
  {
   "cell_type": "code",
   "execution_count": 43,
   "id": "f589566c-f752-4bc5-bf33-0d4d1e8661c2",
   "metadata": {},
   "outputs": [
    {
     "data": {
      "text/plain": [
       "366.19827012641383"
      ]
     },
     "execution_count": 43,
     "metadata": {},
     "output_type": "execute_result"
    }
   ],
   "source": [
    "restauran_data.review_text.str.len().mean()"
   ]
  },
  {
   "cell_type": "code",
   "execution_count": 44,
   "id": "4ec8c48d-ab93-4ceb-a107-6aecba8043b9",
   "metadata": {},
   "outputs": [
    {
     "data": {
      "text/plain": [
       "235.0"
      ]
     },
     "execution_count": 44,
     "metadata": {},
     "output_type": "execute_result"
    }
   ],
   "source": [
    "restauran_data.review_text.str.len().median()"
   ]
  },
  {
   "cell_type": "code",
   "execution_count": 45,
   "id": "1a43c69a-5118-4cb0-b7f9-62abca94d137",
   "metadata": {},
   "outputs": [
    {
     "name": "stdout",
     "output_type": "stream",
     "text": [
      "Negative 517.0\n",
      "Positive 214.0\n",
      "Sentiment 6.0\n"
     ]
    }
   ],
   "source": [
    "for sentiment, group_data in restauran_data.groupby(\"review_sentiment\"):\n",
    "    print(sentiment, group_data.review_text.str.len().median())"
   ]
  },
  {
   "cell_type": "code",
   "execution_count": 46,
   "id": "8b6a707d-87d5-448b-8512-54288f8660e2",
   "metadata": {},
   "outputs": [
    {
     "data": {
      "text/plain": [
       "'The manager became agressive when I said the carbonara was not good. She was rude. It was  a very bad experience. The worst in Rome in many years.'"
      ]
     },
     "execution_count": 46,
     "metadata": {},
     "output_type": "execute_result"
    }
   ],
   "source": [
    "restauran_data.loc[1].review_text"
   ]
  },
  {
   "cell_type": "code",
   "execution_count": 47,
   "id": "f7f649d4-50fc-4e82-a5de-ebf0f11b81c6",
   "metadata": {},
   "outputs": [
    {
     "data": {
      "text/plain": [
       "Counter({' ': 28,\n",
       "         'e': 18,\n",
       "         'a': 15,\n",
       "         'r': 9,\n",
       "         'n': 8,\n",
       "         's': 8,\n",
       "         'o': 6,\n",
       "         'h': 5,\n",
       "         'i': 5,\n",
       "         'w': 5,\n",
       "         'm': 4,\n",
       "         'd': 4,\n",
       "         't': 4,\n",
       "         '.': 4,\n",
       "         'g': 3,\n",
       "         'b': 3,\n",
       "         'c': 3,\n",
       "         'y': 3,\n",
       "         'T': 2,\n",
       "         'v': 2,\n",
       "         'I': 2,\n",
       "         'S': 1,\n",
       "         'u': 1,\n",
       "         'x': 1,\n",
       "         'p': 1,\n",
       "         'R': 1})"
      ]
     },
     "execution_count": 47,
     "metadata": {},
     "output_type": "execute_result"
    }
   ],
   "source": [
    "Counter(restauran_data.loc[1].review_text)"
   ]
  },
  {
   "cell_type": "code",
   "execution_count": 48,
   "id": "dd872468-b573-4cf4-bdf7-f904899c3358",
   "metadata": {},
   "outputs": [],
   "source": [
    "all_rows = \" \".join(restauran_data.review_text.ravel())"
   ]
  },
  {
   "cell_type": "code",
   "execution_count": 49,
   "id": "59fc4d5f-5828-4308-85e4-1a11b563d2eb",
   "metadata": {},
   "outputs": [],
   "source": [
    "frequences = Counter(all_rows.lower()).most_common(28)"
   ]
  },
  {
   "cell_type": "code",
   "execution_count": 51,
   "id": "575d4477-8d0e-4ac9-b9f0-3d2eddb710a0",
   "metadata": {},
   "outputs": [
    {
     "data": {
      "image/png": "[encoded data removed]",
      "text/plain": [
       "<Figure size 640x480 with 1 Axes>"
      ]
     },
     "metadata": {},
     "output_type": "display_data"
    }
   ],
   "source": [
    "plt.bar([symbol for symbol, frequency in frequences], [frequency for symbol, frequency in frequences])\n",
    "plt.ylabel(\"Count\")\n",
    "plt.show()"
   ]
  },
  {
   "cell_type": "code",
   "execution_count": null,
   "id": "9612e6fc-ebed-40a8-a8b6-82e33e2d5c01",
   "metadata": {},
   "outputs": [],
   "source": []
  }
 ],
 "metadata": {
  "kernelspec": {
   "display_name": "Python 3 (ipykernel)",
   "language": "python",
   "name": "python3"
  },
  "language_info": {
   "codemirror_mode": {
    "name": "ipython",
    "version": 3
   },
   "file_extension": ".py",
   "mimetype": "text/x-python",
   "name": "python",
   "nbconvert_exporter": "python",
   "pygments_lexer": "ipython3",
   "version": "3.12.6"
  }
 },
 "nbformat": 4,
 "nbformat_minor": 5
}
