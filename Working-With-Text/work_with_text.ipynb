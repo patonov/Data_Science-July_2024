{
 "cells": [
  {
   "cell_type": "code",
   "execution_count": 4,
   "id": "04db17e5-25b3-4d1a-8d93-a68a6468e3a1",
   "metadata": {},
   "outputs": [],
   "source": [
    "import numpy as np\n",
    "import pandas as pd\n",
    "import matplotlib.pyplot as plt"
   ]
  },
  {
   "cell_type": "code",
   "execution_count": 6,
   "id": "61da2830-dca4-46f9-96a8-1eac82fb8692",
   "metadata": {},
   "outputs": [],
   "source": [
    "restauran_data = pd.read_csv(\"European Restaurant Reviews.csv\", header=None)"
   ]
  },
  {
   "cell_type": "code",
   "execution_count": 7,
   "id": "ef8b962b-fe48-4fd7-a51a-65478f50a959",
   "metadata": {},
   "outputs": [],
   "source": [
    "restauran_data.columns = [\"country\", \"restaurant_name\", \"review_sentiment\", \"review_title\", \"review_date\", \"review_text\"]"
   ]
  },
  {
   "cell_type": "code",
   "execution_count": 11,
   "id": "a06a6cd6-c3d8-4d63-b60c-cb0a3dbc93e5",
   "metadata": {},
   "outputs": [
    {
     "name": "stdout",
     "output_type": "stream",
     "text": [
      "<class 'pandas.core.frame.DataFrame'>\n",
      "RangeIndex: 1503 entries, 0 to 1502\n",
      "Data columns (total 6 columns):\n",
      " #   Column            Non-Null Count  Dtype \n",
      "---  ------            --------------  ----- \n",
      " 0   country           1503 non-null   object\n",
      " 1   restaurant_name   1503 non-null   object\n",
      " 2   review_sentiment  1503 non-null   object\n",
      " 3   review_title      1503 non-null   object\n",
      " 4   review_date       1503 non-null   object\n",
      " 5   review_text       1503 non-null   object\n",
      "dtypes: object(6)\n",
      "memory usage: 70.6+ KB\n"
     ]
    }
   ],
   "source": [
    "restauran_data.info()"
   ]
  },
  {
   "cell_type": "code",
   "execution_count": 16,
   "id": "9f5726be-da1f-4419-a81b-12d06d10768c",
   "metadata": {},
   "outputs": [
    {
     "data": {
      "text/plain": [
       "8"
      ]
     },
     "execution_count": 16,
     "metadata": {},
     "output_type": "execute_result"
    }
   ],
   "source": [
    "restauran_data.restaurant_name.nunique()"
   ]
  },
  {
   "cell_type": "code",
   "execution_count": null,
   "id": "414de2db-934c-4e20-ad25-1b59c035ac06",
   "metadata": {},
   "outputs": [],
   "source": []
  }
 ],
 "metadata": {
  "kernelspec": {
   "display_name": "Python 3 (ipykernel)",
   "language": "python",
   "name": "python3"
  },
  "language_info": {
   "codemirror_mode": {
    "name": "ipython",
    "version": 3
   },
   "file_extension": ".py",
   "mimetype": "text/x-python",
   "name": "python",
   "nbconvert_exporter": "python",
   "pygments_lexer": "ipython3",
   "version": "3.12.6"
  }
 },
 "nbformat": 4,
 "nbformat_minor": 5
}
