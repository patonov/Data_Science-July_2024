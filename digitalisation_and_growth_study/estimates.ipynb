{
 "cells": [
  {
   "cell_type": "code",
   "execution_count": 1,
   "id": "40669b79-20ef-43c5-871b-0be36f0ccb46",
   "metadata": {},
   "outputs": [],
   "source": [
    "import numpy as np\n",
    "import pandas as pd\n",
    "import matplotlib.pyplot as plt\n",
    "from sklearn import linear_model"
   ]
  },
  {
   "cell_type": "code",
   "execution_count": 2,
   "id": "712ff40d-6c10-40d2-b237-c115e4db1e0e",
   "metadata": {},
   "outputs": [],
   "source": [
    "df = pd.read_excel(\"raw_data.xlsx\")"
   ]
  },
  {
   "cell_type": "code",
   "execution_count": 3,
   "id": "d06d4fc5-4a95-4785-9c75-336a2513af06",
   "metadata": {},
   "outputs": [
    {
     "name": "stdout",
     "output_type": "stream",
     "text": [
      "<class 'pandas.core.frame.DataFrame'>\n",
      "RangeIndex: 2730 entries, 0 to 2729\n",
      "Data columns (total 23 columns):\n",
      " #   Column                                Non-Null Count  Dtype  \n",
      "---  ------                                --------------  -----  \n",
      " 0   Unnamed: 0                            4 non-null      object \n",
      " 1   Unnamed: 1                            123 non-null    object \n",
      " 2   Unnamed: 2                            130 non-null    float64\n",
      " 3   Unnamed: 3                            130 non-null    object \n",
      " 4   Unnamed: 4                            121 non-null    object \n",
      " 5   Unnamed: 5                            2730 non-null   int64  \n",
      " 6   Unnamed: 6                            2730 non-null   int64  \n",
      " 7   id                                    2730 non-null   int64  \n",
      " 8   Year                                  2730 non-null   int64  \n",
      " 9   INCOME                                2730 non-null   int64  \n",
      " 10  LGDP                                  2730 non-null   float64\n",
      " 11  FPS : Fixed Phone Subscriptions       2730 non-null   float64\n",
      " 12  MPS: Mobile Phone Subscriptions       2730 non-null   float64\n",
      " 13  BBS: Broadband Subscription           2730 non-null   float64\n",
      " 14  Internet_use                          2730 non-null   float64\n",
      " 15  DDI                                   2730 non-null   float64\n",
      " 16  GFCF: Gross Fixed Capital Formation   2730 non-null   float64\n",
      " 17  TO: Trade Openness  (expbs+Impbs)     2730 non-null   float64\n",
      " 18  Labor (Hlabor+Flabor)                 2730 non-null   float64\n",
      " 19  LCPI: Consumers Price Index           2729 non-null   float64\n",
      " 20  LPOP: Poplulation                     2730 non-null   float64\n",
      " 21  consum: Government Consuption         2730 non-null   float64\n",
      " 22  RD                                    2730 non-null   float64\n",
      "dtypes: float64(14), int64(5), object(4)\n",
      "memory usage: 490.7+ KB\n"
     ]
    }
   ],
   "source": [
    "df.info()"
   ]
  },
  {
   "cell_type": "code",
   "execution_count": 4,
   "id": "92e5c2a1-fedf-4f56-b1db-77dc537d6331",
   "metadata": {},
   "outputs": [],
   "source": [
    "df_bigger = df[[\"FPS : Fixed Phone Subscriptions\", \"MPS: Mobile Phone Subscriptions\", \"Internet_use\", \"DDI\", \"LGDP\"]]"
   ]
  },
  {
   "cell_type": "code",
   "execution_count": 5,
   "id": "48357227-7c9a-48ab-95d6-7eec8be6fa45",
   "metadata": {},
   "outputs": [],
   "source": [
    "X = df[[\"FPS : Fixed Phone Subscriptions\", \"MPS: Mobile Phone Subscriptions\", \"Internet_use\"]]\n",
    "y = df[\"LGDP\"]"
   ]
  },
  {
   "cell_type": "code",
   "execution_count": 6,
   "id": "4b61e43f-c318-48a0-a9c7-c10e65365b16",
   "metadata": {},
   "outputs": [],
   "source": [
    "y2 = df[\"INCOME\"]"
   ]
  },
  {
   "cell_type": "code",
   "execution_count": 7,
   "id": "0ab9f07d-d4a6-4cf9-81bc-0708d62bb032",
   "metadata": {},
   "outputs": [],
   "source": [
    "y3 = df[\"Labor (Hlabor+Flabor)\"]"
   ]
  },
  {
   "cell_type": "code",
   "execution_count": 8,
   "id": "992dc2a8-7ae4-4039-9c7c-b7c559b27bfd",
   "metadata": {},
   "outputs": [
    {
     "data": {
      "text/html": [
       "<table class=\"simpletable\">\n",
       "<caption>OLS Regression Results</caption>\n",
       "<tr>\n",
       "  <th>Dep. Variable:</th>          <td>LGDP</td>       <th>  R-squared:         </th> <td>   0.784</td>\n",
       "</tr>\n",
       "<tr>\n",
       "  <th>Model:</th>                   <td>OLS</td>       <th>  Adj. R-squared:    </th> <td>   0.783</td>\n",
       "</tr>\n",
       "<tr>\n",
       "  <th>Method:</th>             <td>Least Squares</td>  <th>  F-statistic:       </th> <td>   3293.</td>\n",
       "</tr>\n",
       "<tr>\n",
       "  <th>Date:</th>             <td>Tue, 19 Aug 2025</td> <th>  Prob (F-statistic):</th>  <td>  0.00</td> \n",
       "</tr>\n",
       "<tr>\n",
       "  <th>Time:</th>                 <td>20:17:40</td>     <th>  Log-Likelihood:    </th> <td> -2847.9</td>\n",
       "</tr>\n",
       "<tr>\n",
       "  <th>No. Observations:</th>      <td>  2730</td>      <th>  AIC:               </th> <td>   5704.</td>\n",
       "</tr>\n",
       "<tr>\n",
       "  <th>Df Residuals:</th>          <td>  2726</td>      <th>  BIC:               </th> <td>   5728.</td>\n",
       "</tr>\n",
       "<tr>\n",
       "  <th>Df Model:</th>              <td>     3</td>      <th>                     </th>     <td> </td>   \n",
       "</tr>\n",
       "<tr>\n",
       "  <th>Covariance Type:</th>      <td>nonrobust</td>    <th>                     </th>     <td> </td>   \n",
       "</tr>\n",
       "</table>\n",
       "<table class=\"simpletable\">\n",
       "<tr>\n",
       "                 <td></td>                    <th>coef</th>     <th>std err</th>      <th>t</th>      <th>P>|t|</th>  <th>[0.025</th>    <th>0.975]</th>  \n",
       "</tr>\n",
       "<tr>\n",
       "  <th>const</th>                           <td>    6.9197</td> <td>    0.027</td> <td>  253.741</td> <td> 0.000</td> <td>    6.866</td> <td>    6.973</td>\n",
       "</tr>\n",
       "<tr>\n",
       "  <th>FPS : Fixed Phone Subscriptions</th> <td>    4.4769</td> <td>    0.087</td> <td>   51.418</td> <td> 0.000</td> <td>    4.306</td> <td>    4.648</td>\n",
       "</tr>\n",
       "<tr>\n",
       "  <th>MPS: Mobile Phone Subscriptions</th> <td>    0.1977</td> <td>    0.041</td> <td>    4.776</td> <td> 0.000</td> <td>    0.117</td> <td>    0.279</td>\n",
       "</tr>\n",
       "<tr>\n",
       "  <th>Internet_use</th>                    <td>    1.7576</td> <td>    0.077</td> <td>   22.713</td> <td> 0.000</td> <td>    1.606</td> <td>    1.909</td>\n",
       "</tr>\n",
       "</table>\n",
       "<table class=\"simpletable\">\n",
       "<tr>\n",
       "  <th>Omnibus:</th>       <td>95.854</td> <th>  Durbin-Watson:     </th> <td>   0.129</td>\n",
       "</tr>\n",
       "<tr>\n",
       "  <th>Prob(Omnibus):</th> <td> 0.000</td> <th>  Jarque-Bera (JB):  </th> <td> 116.317</td>\n",
       "</tr>\n",
       "<tr>\n",
       "  <th>Skew:</th>          <td> 0.406</td> <th>  Prob(JB):          </th> <td>5.52e-26</td>\n",
       "</tr>\n",
       "<tr>\n",
       "  <th>Kurtosis:</th>      <td> 3.602</td> <th>  Cond. No.          </th> <td>    11.3</td>\n",
       "</tr>\n",
       "</table><br/><br/>Notes:<br/>[1] Standard Errors assume that the covariance matrix of the errors is correctly specified."
      ],
      "text/latex": [
       "\\begin{center}\n",
       "\\begin{tabular}{lclc}\n",
       "\\toprule\n",
       "\\textbf{Dep. Variable:}                  &       LGDP       & \\textbf{  R-squared:         } &     0.784   \\\\\n",
       "\\textbf{Model:}                          &       OLS        & \\textbf{  Adj. R-squared:    } &     0.783   \\\\\n",
       "\\textbf{Method:}                         &  Least Squares   & \\textbf{  F-statistic:       } &     3293.   \\\\\n",
       "\\textbf{Date:}                           & Tue, 19 Aug 2025 & \\textbf{  Prob (F-statistic):} &     0.00    \\\\\n",
       "\\textbf{Time:}                           &     20:17:40     & \\textbf{  Log-Likelihood:    } &   -2847.9   \\\\\n",
       "\\textbf{No. Observations:}               &        2730      & \\textbf{  AIC:               } &     5704.   \\\\\n",
       "\\textbf{Df Residuals:}                   &        2726      & \\textbf{  BIC:               } &     5728.   \\\\\n",
       "\\textbf{Df Model:}                       &           3      & \\textbf{                     } &             \\\\\n",
       "\\textbf{Covariance Type:}                &    nonrobust     & \\textbf{                     } &             \\\\\n",
       "\\bottomrule\n",
       "\\end{tabular}\n",
       "\\begin{tabular}{lcccccc}\n",
       "                                         & \\textbf{coef} & \\textbf{std err} & \\textbf{t} & \\textbf{P$> |$t$|$} & \\textbf{[0.025} & \\textbf{0.975]}  \\\\\n",
       "\\midrule\n",
       "\\textbf{const}                           &       6.9197  &        0.027     &   253.741  &         0.000        &        6.866    &        6.973     \\\\\n",
       "\\textbf{FPS : Fixed Phone Subscriptions} &       4.4769  &        0.087     &    51.418  &         0.000        &        4.306    &        4.648     \\\\\n",
       "\\textbf{MPS: Mobile Phone Subscriptions} &       0.1977  &        0.041     &     4.776  &         0.000        &        0.117    &        0.279     \\\\\n",
       "\\textbf{Internet\\_use}                   &       1.7576  &        0.077     &    22.713  &         0.000        &        1.606    &        1.909     \\\\\n",
       "\\bottomrule\n",
       "\\end{tabular}\n",
       "\\begin{tabular}{lclc}\n",
       "\\textbf{Omnibus:}       & 95.854 & \\textbf{  Durbin-Watson:     } &    0.129  \\\\\n",
       "\\textbf{Prob(Omnibus):} &  0.000 & \\textbf{  Jarque-Bera (JB):  } &  116.317  \\\\\n",
       "\\textbf{Skew:}          &  0.406 & \\textbf{  Prob(JB):          } & 5.52e-26  \\\\\n",
       "\\textbf{Kurtosis:}      &  3.602 & \\textbf{  Cond. No.          } &     11.3  \\\\\n",
       "\\bottomrule\n",
       "\\end{tabular}\n",
       "%\\caption{OLS Regression Results}\n",
       "\\end{center}\n",
       "\n",
       "Notes: \\newline\n",
       " [1] Standard Errors assume that the covariance matrix of the errors is correctly specified."
      ],
      "text/plain": [
       "<class 'statsmodels.iolib.summary.Summary'>\n",
       "\"\"\"\n",
       "                            OLS Regression Results                            \n",
       "==============================================================================\n",
       "Dep. Variable:                   LGDP   R-squared:                       0.784\n",
       "Model:                            OLS   Adj. R-squared:                  0.783\n",
       "Method:                 Least Squares   F-statistic:                     3293.\n",
       "Date:                Tue, 19 Aug 2025   Prob (F-statistic):               0.00\n",
       "Time:                        20:17:40   Log-Likelihood:                -2847.9\n",
       "No. Observations:                2730   AIC:                             5704.\n",
       "Df Residuals:                    2726   BIC:                             5728.\n",
       "Df Model:                           3                                         \n",
       "Covariance Type:            nonrobust                                         \n",
       "===================================================================================================\n",
       "                                      coef    std err          t      P>|t|      [0.025      0.975]\n",
       "---------------------------------------------------------------------------------------------------\n",
       "const                               6.9197      0.027    253.741      0.000       6.866       6.973\n",
       "FPS : Fixed Phone Subscriptions     4.4769      0.087     51.418      0.000       4.306       4.648\n",
       "MPS: Mobile Phone Subscriptions     0.1977      0.041      4.776      0.000       0.117       0.279\n",
       "Internet_use                        1.7576      0.077     22.713      0.000       1.606       1.909\n",
       "==============================================================================\n",
       "Omnibus:                       95.854   Durbin-Watson:                   0.129\n",
       "Prob(Omnibus):                  0.000   Jarque-Bera (JB):              116.317\n",
       "Skew:                           0.406   Prob(JB):                     5.52e-26\n",
       "Kurtosis:                       3.602   Cond. No.                         11.3\n",
       "==============================================================================\n",
       "\n",
       "Notes:\n",
       "[1] Standard Errors assume that the covariance matrix of the errors is correctly specified.\n",
       "\"\"\""
      ]
     },
     "execution_count": 8,
     "metadata": {},
     "output_type": "execute_result"
    }
   ],
   "source": [
    "import statsmodels.api as sm\n",
    "X = sm.add_constant(X)\n",
    "results = sm.OLS(y, X).fit()\n",
    "results.summary() "
   ]
  },
  {
   "cell_type": "code",
   "execution_count": 9,
   "id": "723b4e06-3f68-46d0-aa27-f0dfe91962eb",
   "metadata": {},
   "outputs": [],
   "source": [
    "from statsmodels.tsa.api import VAR"
   ]
  },
  {
   "cell_type": "code",
   "execution_count": 10,
   "id": "e1212c4e-6f26-4c06-8f38-504859db85f6",
   "metadata": {},
   "outputs": [],
   "source": [
    "df_new = df[[\"FPS : Fixed Phone Subscriptions\", \"MPS: Mobile Phone Subscriptions\", \"Internet_use\", \"LGDP\"]]"
   ]
  },
  {
   "cell_type": "code",
   "execution_count": 11,
   "id": "53a01d21-275a-4cec-a534-392633da4a7e",
   "metadata": {},
   "outputs": [],
   "source": [
    "model = VAR(df_new)\n",
    "lags_value = 1"
   ]
  },
  {
   "cell_type": "code",
   "execution_count": 12,
   "id": "ead5a4f9-fd49-4730-b0e4-a7a679c48e52",
   "metadata": {},
   "outputs": [
    {
     "data": {
      "text/plain": [
       "  Summary of Regression Results   \n",
       "==================================\n",
       "Model:                         VAR\n",
       "Method:                        OLS\n",
       "Date:           Tue, 19, Aug, 2025\n",
       "Time:                     20:17:40\n",
       "--------------------------------------------------------------------\n",
       "No. of Equations:         4.00000    BIC:                   -18.5682\n",
       "Nobs:                     2729.00    HQIC:                  -18.5958\n",
       "Log likelihood:           9926.23    FPE:                8.26302e-09\n",
       "AIC:                     -18.6115    Det(Omega_mle):     8.20274e-09\n",
       "--------------------------------------------------------------------\n",
       "Results for equation FPS : Fixed Phone Subscriptions\n",
       "=====================================================================================================\n",
       "                                        coefficient       std. error           t-stat            prob\n",
       "-----------------------------------------------------------------------------------------------------\n",
       "const                                     -0.030263         0.007488           -4.042           0.000\n",
       "L1.FPS : Fixed Phone Subscriptions         0.941424         0.006762          139.232           0.000\n",
       "L1.MPS: Mobile Phone Subscriptions        -0.011285         0.002301           -4.905           0.000\n",
       "L1.Internet_use                            0.014680         0.004669            3.144           0.002\n",
       "L1.LGDP                                    0.005307         0.001060            5.007           0.000\n",
       "=====================================================================================================\n",
       "\n",
       "Results for equation MPS: Mobile Phone Subscriptions\n",
       "=====================================================================================================\n",
       "                                        coefficient       std. error           t-stat            prob\n",
       "-----------------------------------------------------------------------------------------------------\n",
       "const                                     -0.268200         0.043214           -6.206           0.000\n",
       "L1.FPS : Fixed Phone Subscriptions         0.189165         0.039023            4.847           0.000\n",
       "L1.MPS: Mobile Phone Subscriptions         0.987071         0.013279           74.336           0.000\n",
       "L1.Internet_use                           -0.452362         0.026949          -16.786           0.000\n",
       "L1.LGDP                                    0.047104         0.006117            7.700           0.000\n",
       "=====================================================================================================\n",
       "\n",
       "Results for equation Internet_use\n",
       "=====================================================================================================\n",
       "                                        coefficient       std. error           t-stat            prob\n",
       "-----------------------------------------------------------------------------------------------------\n",
       "const                                     -0.131708         0.025559           -5.153           0.000\n",
       "L1.FPS : Fixed Phone Subscriptions         0.147647         0.023080            6.397           0.000\n",
       "L1.MPS: Mobile Phone Subscriptions         0.059803         0.007854            7.615           0.000\n",
       "L1.Internet_use                            0.698352         0.015939           43.814           0.000\n",
       "L1.LGDP                                    0.018994         0.003618            5.250           0.000\n",
       "=====================================================================================================\n",
       "\n",
       "Results for equation LGDP\n",
       "=====================================================================================================\n",
       "                                        coefficient       std. error           t-stat            prob\n",
       "-----------------------------------------------------------------------------------------------------\n",
       "const                                      0.013756         0.036192            0.380           0.704\n",
       "L1.FPS : Fixed Phone Subscriptions         0.150282         0.032682            4.598           0.000\n",
       "L1.MPS: Mobile Phone Subscriptions        -0.002823         0.011121           -0.254           0.800\n",
       "L1.Internet_use                           -0.165281         0.022569           -7.323           0.000\n",
       "L1.LGDP                                    1.002037         0.005123          195.597           0.000\n",
       "=====================================================================================================\n",
       "\n",
       "Correlation matrix of residuals\n",
       "                                   FPS : Fixed Phone Subscriptions  MPS: Mobile Phone Subscriptions  Internet_use      LGDP\n",
       "FPS : Fixed Phone Subscriptions                           1.000000                        -0.088555     -0.199899  0.151500\n",
       "MPS: Mobile Phone Subscriptions                          -0.088555                         1.000000      0.815831  0.528659\n",
       "Internet_use                                             -0.199899                         0.815831      1.000000  0.494988\n",
       "LGDP                                                      0.151500                         0.528659      0.494988  1.000000\n",
       "\n"
      ]
     },
     "execution_count": 12,
     "metadata": {},
     "output_type": "execute_result"
    }
   ],
   "source": [
    "results = model.fit(lags_value)\n",
    "results.summary()"
   ]
  },
  {
   "cell_type": "code",
   "execution_count": 13,
   "id": "9c3a15d6-62d8-4cf4-b048-c4e7935643ee",
   "metadata": {},
   "outputs": [
    {
     "data": {
      "text/plain": [
       "count    2730.000000\n",
       "mean        0.209621\n",
       "std         0.191711\n",
       "min         0.000000\n",
       "25%         0.042129\n",
       "50%         0.157477\n",
       "75%         0.334364\n",
       "max         0.918004\n",
       "Name: FPS : Fixed Phone Subscriptions, dtype: float64"
      ]
     },
     "execution_count": 13,
     "metadata": {},
     "output_type": "execute_result"
    }
   ],
   "source": [
    "df[\"FPS : Fixed Phone Subscriptions\"].describe()"
   ]
  },
  {
   "cell_type": "code",
   "execution_count": 14,
   "id": "83173563-d271-4423-96fe-177f8873eb52",
   "metadata": {},
   "outputs": [
    {
     "data": {
      "text/plain": [
       "count    2730.000000\n",
       "mean        0.817067\n",
       "std         0.485352\n",
       "min         0.000000\n",
       "25%         0.406741\n",
       "50%         0.873023\n",
       "75%         1.177644\n",
       "max         2.916536\n",
       "Name: MPS: Mobile Phone Subscriptions, dtype: float64"
      ]
     },
     "execution_count": 14,
     "metadata": {},
     "output_type": "execute_result"
    }
   ],
   "source": [
    "df[\"MPS: Mobile Phone Subscriptions\"].describe()"
   ]
  },
  {
   "cell_type": "code",
   "execution_count": 15,
   "id": "71ee2fc1-c740-4ec9-bde0-8db5cc3077ae",
   "metadata": {},
   "outputs": [
    {
     "data": {
      "text/plain": [
       "count    2730.000000\n",
       "mean        0.374652\n",
       "std         0.303873\n",
       "min         0.000000\n",
       "25%         0.075431\n",
       "50%         0.326500\n",
       "75%         0.646969\n",
       "max         1.000000\n",
       "Name: Internet_use, dtype: float64"
      ]
     },
     "execution_count": 15,
     "metadata": {},
     "output_type": "execute_result"
    }
   ],
   "source": [
    "df[\"Internet_use\"].describe()"
   ]
  },
  {
   "cell_type": "code",
   "execution_count": 16,
   "id": "de59c9ce-39bb-4eab-b8f7-35c3c32e0c09",
   "metadata": {},
   "outputs": [
    {
     "data": {
      "text/plain": [
       "count    2730.000000\n",
       "mean        8.678145\n",
       "std         1.477015\n",
       "min         5.555394\n",
       "25%         7.587988\n",
       "50%         8.606205\n",
       "75%         9.900314\n",
       "max        11.629978\n",
       "Name: LGDP, dtype: float64"
      ]
     },
     "execution_count": 16,
     "metadata": {},
     "output_type": "execute_result"
    }
   ],
   "source": [
    "df[\"LGDP\"].describe()"
   ]
  },
  {
   "cell_type": "code",
   "execution_count": 17,
   "id": "b6eb24c2-8d3c-457c-bec3-cf3e2b38fc54",
   "metadata": {},
   "outputs": [],
   "source": [
    "from arch.unitroot import *"
   ]
  },
  {
   "cell_type": "code",
   "execution_count": 18,
   "id": "02625343-d112-4640-84cb-a84dc0b8c841",
   "metadata": {},
   "outputs": [
    {
     "name": "stdout",
     "output_type": "stream",
     "text": [
      "   Augmented Dickey-Fuller Results   \n",
      "=====================================\n",
      "Test Statistic                 -2.762\n",
      "P-value                         0.064\n",
      "Lags                               20\n",
      "-------------------------------------\n",
      "\n",
      "Trend: Constant\n",
      "Critical Values: -3.43 (1%), -2.86 (5%), -2.57 (10%)\n",
      "Null Hypothesis: The process contains a unit root.\n",
      "Alternative Hypothesis: The process is weakly stationary.\n"
     ]
    }
   ],
   "source": [
    "arch_adf_result = ADF(df[\"FPS : Fixed Phone Subscriptions\"], trend=\"c\")\n",
    "print(arch_adf_result.summary())"
   ]
  },
  {
   "cell_type": "code",
   "execution_count": 19,
   "id": "feb6e418-68a2-4012-9271-fc7d782df7b7",
   "metadata": {},
   "outputs": [
    {
     "name": "stdout",
     "output_type": "stream",
     "text": [
      "   Augmented Dickey-Fuller Results   \n",
      "=====================================\n",
      "Test Statistic                -12.972\n",
      "P-value                         0.000\n",
      "Lags                               28\n",
      "-------------------------------------\n",
      "\n",
      "Trend: Constant\n",
      "Critical Values: -3.43 (1%), -2.86 (5%), -2.57 (10%)\n",
      "Null Hypothesis: The process contains a unit root.\n",
      "Alternative Hypothesis: The process is weakly stationary.\n"
     ]
    }
   ],
   "source": [
    "first_diff = df[\"LGDP\"].diff()[1:]\n",
    "print(ADF(first_diff, trend=\"c\"))"
   ]
  },
  {
   "cell_type": "code",
   "execution_count": null,
   "id": "fe12c464-9b25-4fed-9c2c-01106ee06cdc",
   "metadata": {},
   "outputs": [],
   "source": []
  }
 ],
 "metadata": {
  "kernelspec": {
   "display_name": "Python 3 (ipykernel)",
   "language": "python",
   "name": "python3"
  },
  "language_info": {
   "codemirror_mode": {
    "name": "ipython",
    "version": 3
   },
   "file_extension": ".py",
   "mimetype": "text/x-python",
   "name": "python",
   "nbconvert_exporter": "python",
   "pygments_lexer": "ipython3",
   "version": "3.12.6"
  }
 },
 "nbformat": 4,
 "nbformat_minor": 5
}
